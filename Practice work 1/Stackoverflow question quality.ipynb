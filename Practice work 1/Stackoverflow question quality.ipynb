{
 "cells": [
  {
   "cell_type": "markdown",
   "id": "c13b7ccf",
   "metadata": {
    "id": "c13b7ccf"
   },
   "source": [
    "# UNN NLP 2021 1st Lab\n",
    "### Classification task"
   ]
  },
  {
   "cell_type": "code",
   "execution_count": 1,
   "id": "550410f5",
   "metadata": {
    "id": "550410f5"
   },
   "outputs": [],
   "source": [
    "import pandas as pd\n",
    "import matplotlib.pyplot as plt\n",
    "from sklearn.model_selection import train_test_split\n",
    "from sklearn.metrics import f1_score\n",
    "import numpy as np"
   ]
  },
  {
   "cell_type": "code",
   "execution_count": 2,
   "id": "79b6cba9",
   "metadata": {
    "colab": {
     "base_uri": "https://localhost:8080/"
    },
    "id": "79b6cba9",
    "outputId": "d83a0e0f-a0b4-4978-d44d-b2bf44c353cf"
   },
   "outputs": [
    {
     "name": "stdout",
     "output_type": "stream",
     "text": [
      "Mounted at /content/gdrive/\n"
     ]
    }
   ],
   "source": [
    "from google.colab import drive\n",
    "drive.mount('/content/gdrive/', force_remount=True)"
   ]
  },
  {
   "cell_type": "code",
   "execution_count": 3,
   "id": "FykleEXLsvAn",
   "metadata": {
    "colab": {
     "base_uri": "https://localhost:8080/"
    },
    "id": "FykleEXLsvAn",
    "outputId": "36ccd117-85ea-41a2-b41b-ced2f4903eb9"
   },
   "outputs": [
    {
     "name": "stdout",
     "output_type": "stream",
     "text": [
      "/content/gdrive/My Drive/UNN-2021-1st-laboratory-work\n"
     ]
    }
   ],
   "source": [
    "%cd '/content/gdrive/My Drive/UNN-2021-1st-laboratory-work/'"
   ]
  },
  {
   "cell_type": "markdown",
   "id": "Z1TKMzJ-KbY1",
   "metadata": {
    "id": "Z1TKMzJ-KbY1"
   },
   "source": [
    "Выполним загрузку данных"
   ]
  },
  {
   "cell_type": "code",
   "execution_count": 4,
   "id": "f257bea5",
   "metadata": {
    "id": "f257bea5"
   },
   "outputs": [],
   "source": [
    "df_raw = pd.read_parquet('train.parquet')\n",
    "df_test = pd.read_parquet('test.parquet')"
   ]
  },
  {
   "cell_type": "code",
   "execution_count": 5,
   "id": "aea519a7",
   "metadata": {
    "colab": {
     "base_uri": "https://localhost:8080/",
     "height": 237
    },
    "id": "aea519a7",
    "outputId": "06921661-e825-40b8-8ecd-b06cbc21c1cd"
   },
   "outputs": [
    {
     "data": {
      "text/html": [
       "<div>\n",
       "<style scoped>\n",
       "    .dataframe tbody tr th:only-of-type {\n",
       "        vertical-align: middle;\n",
       "    }\n",
       "\n",
       "    .dataframe tbody tr th {\n",
       "        vertical-align: top;\n",
       "    }\n",
       "\n",
       "    .dataframe thead th {\n",
       "        text-align: right;\n",
       "    }\n",
       "</style>\n",
       "<table border=\"1\" class=\"dataframe\">\n",
       "  <thead>\n",
       "    <tr style=\"text-align: right;\">\n",
       "      <th></th>\n",
       "      <th>Body</th>\n",
       "      <th>Tags</th>\n",
       "      <th>Title</th>\n",
       "      <th>target</th>\n",
       "    </tr>\n",
       "    <tr>\n",
       "      <th>Id</th>\n",
       "      <th></th>\n",
       "      <th></th>\n",
       "      <th></th>\n",
       "      <th></th>\n",
       "    </tr>\n",
       "  </thead>\n",
       "  <tbody>\n",
       "    <tr>\n",
       "      <th>34862324</th>\n",
       "      <td>Algorithmm:\\r\\n\\r\\n**input :** Graph G\\r\\n\\r\\n...</td>\n",
       "      <td>&lt;java&gt;&lt;algorithm&gt;&lt;graph-algorithm&gt;</td>\n",
       "      <td>I am implementing a Minimum Spanning Forrest a...</td>\n",
       "      <td>2</td>\n",
       "    </tr>\n",
       "    <tr>\n",
       "      <th>47303682</th>\n",
       "      <td>While converting the data frame to HTML, Date ...</td>\n",
       "      <td>&lt;html&gt;&lt;r&gt;&lt;dataframe&gt;</td>\n",
       "      <td>R Studio: Date is getting converted to number,...</td>\n",
       "      <td>2</td>\n",
       "    </tr>\n",
       "    <tr>\n",
       "      <th>46431243</th>\n",
       "      <td>&lt;p&gt;This should be an easy one, but somehow I c...</td>\n",
       "      <td>&lt;python&gt;&lt;pandas&gt;&lt;dataframe&gt;&lt;pandas-groupby&gt;</td>\n",
       "      <td>Pandas - dataframe groupby - how to get sum of...</td>\n",
       "      <td>0</td>\n",
       "    </tr>\n",
       "    <tr>\n",
       "      <th>45306324</th>\n",
       "      <td>&lt;p&gt;Let say I have a component in Angular 2 tha...</td>\n",
       "      <td>&lt;angular&gt;&lt;typescript&gt;&lt;rxjs&gt;</td>\n",
       "      <td>Casting results from Observable.forkJoin to th...</td>\n",
       "      <td>0</td>\n",
       "    </tr>\n",
       "    <tr>\n",
       "      <th>49479547</th>\n",
       "      <td>&lt;p&gt;I'm setting a var using \\n&lt;code&gt;set TEST_VA...</td>\n",
       "      <td>&lt;c&gt;&lt;windows&gt;&lt;batch-file&gt;</td>\n",
       "      <td>Environment variable set in batch file cannot ...</td>\n",
       "      <td>1</td>\n",
       "    </tr>\n",
       "  </tbody>\n",
       "</table>\n",
       "</div>"
      ],
      "text/plain": [
       "                                                       Body  ... target\n",
       "Id                                                           ...       \n",
       "34862324  Algorithmm:\\r\\n\\r\\n**input :** Graph G\\r\\n\\r\\n...  ...      2\n",
       "47303682  While converting the data frame to HTML, Date ...  ...      2\n",
       "46431243  <p>This should be an easy one, but somehow I c...  ...      0\n",
       "45306324  <p>Let say I have a component in Angular 2 tha...  ...      0\n",
       "49479547  <p>I'm setting a var using \\n<code>set TEST_VA...  ...      1\n",
       "\n",
       "[5 rows x 4 columns]"
      ]
     },
     "execution_count": 5,
     "metadata": {},
     "output_type": "execute_result"
    }
   ],
   "source": [
    "df_raw.head()"
   ]
  },
  {
   "cell_type": "code",
   "execution_count": 6,
   "id": "5a2e86cf",
   "metadata": {
    "colab": {
     "base_uri": "https://localhost:8080/",
     "height": 237
    },
    "id": "5a2e86cf",
    "outputId": "1e126b48-7b7f-4e9a-d163-54a501e3b9af"
   },
   "outputs": [
    {
     "data": {
      "text/html": [
       "<div>\n",
       "<style scoped>\n",
       "    .dataframe tbody tr th:only-of-type {\n",
       "        vertical-align: middle;\n",
       "    }\n",
       "\n",
       "    .dataframe tbody tr th {\n",
       "        vertical-align: top;\n",
       "    }\n",
       "\n",
       "    .dataframe thead th {\n",
       "        text-align: right;\n",
       "    }\n",
       "</style>\n",
       "<table border=\"1\" class=\"dataframe\">\n",
       "  <thead>\n",
       "    <tr style=\"text-align: right;\">\n",
       "      <th></th>\n",
       "      <th>Body</th>\n",
       "      <th>Tags</th>\n",
       "      <th>Title</th>\n",
       "    </tr>\n",
       "    <tr>\n",
       "      <th>Id</th>\n",
       "      <th></th>\n",
       "      <th></th>\n",
       "      <th></th>\n",
       "    </tr>\n",
       "  </thead>\n",
       "  <tbody>\n",
       "    <tr>\n",
       "      <th>46785369</th>\n",
       "      <td>I was given a decision tree with sample data i...</td>\n",
       "      <td>&lt;math&gt;&lt;machine-learning&gt;&lt;artificial-intelligen...</td>\n",
       "      <td>Desecion trees ended up with same given tree a...</td>\n",
       "    </tr>\n",
       "    <tr>\n",
       "      <th>38908667</th>\n",
       "      <td>&lt;p&gt;I am moving a test application over to Xcod...</td>\n",
       "      <td>&lt;ios&gt;&lt;swift&gt;&lt;swift3&gt;&lt;xcode8&gt;&lt;nserror&gt;</td>\n",
       "      <td>Value of type 'Error' has no member 'code'</td>\n",
       "    </tr>\n",
       "    <tr>\n",
       "      <th>44703012</th>\n",
       "      <td>&lt;p&gt;I would like to be able to perform linting ...</td>\n",
       "      <td>&lt;jenkins&gt;&lt;jenkins-pipeline&gt;</td>\n",
       "      <td>How do I lint Jenkins pipelines from the comma...</td>\n",
       "    </tr>\n",
       "    <tr>\n",
       "      <th>34910435</th>\n",
       "      <td>&lt;p&gt;I’m using &lt;a href=\"https://github.com/ftlab...</td>\n",
       "      <td>&lt;javascript&gt;&lt;css&gt;&lt;mobile-safari&gt;&lt;fastclick.js&gt;...</td>\n",
       "      <td>Is there a way to prevent fastclick from firin...</td>\n",
       "    </tr>\n",
       "    <tr>\n",
       "      <th>51632121</th>\n",
       "      <td>I have some 5 Test cases and I want them to ke...</td>\n",
       "      <td>&lt;android&gt;&lt;testing&gt;&lt;appium&gt;&lt;katalon-studio&gt;</td>\n",
       "      <td>How to loop test cases in katalon Studio?</td>\n",
       "    </tr>\n",
       "  </tbody>\n",
       "</table>\n",
       "</div>"
      ],
      "text/plain": [
       "                                                       Body  ...                                              Title\n",
       "Id                                                           ...                                                   \n",
       "46785369  I was given a decision tree with sample data i...  ...  Desecion trees ended up with same given tree a...\n",
       "38908667  <p>I am moving a test application over to Xcod...  ...         Value of type 'Error' has no member 'code'\n",
       "44703012  <p>I would like to be able to perform linting ...  ...  How do I lint Jenkins pipelines from the comma...\n",
       "34910435  <p>I’m using <a href=\"https://github.com/ftlab...  ...  Is there a way to prevent fastclick from firin...\n",
       "51632121  I have some 5 Test cases and I want them to ke...  ...          How to loop test cases in katalon Studio?\n",
       "\n",
       "[5 rows x 3 columns]"
      ]
     },
     "execution_count": 6,
     "metadata": {},
     "output_type": "execute_result"
    }
   ],
   "source": [
    "df_test.head()"
   ]
  },
  {
   "cell_type": "markdown",
   "id": "afb0030f",
   "metadata": {
    "id": "afb0030f"
   },
   "source": [
    "Рассмотрим распределение классов в данных:"
   ]
  },
  {
   "cell_type": "code",
   "execution_count": 7,
   "id": "4cd6fd18",
   "metadata": {
    "colab": {
     "base_uri": "https://localhost:8080/",
     "height": 284
    },
    "id": "4cd6fd18",
    "outputId": "5e3c73f9-7c59-4948-8e34-fb99532e1144"
   },
   "outputs": [
    {
     "data": {
      "text/plain": [
       "<BarContainer object of 3 artists>"
      ]
     },
     "execution_count": 7,
     "metadata": {},
     "output_type": "execute_result"
    },
    {
     "data": {
      "image/png": "[encoded data removed]",
      "text/plain": [
       "<Figure size 432x288 with 1 Axes>"
      ]
     },
     "metadata": {
      "needs_background": "light"
     },
     "output_type": "display_data"
    }
   ],
   "source": [
    "names = ['HQ', 'LQ_CLOSE', 'LQ_EDIT']\n",
    "values = [len(df_raw[df_raw['target'] == 0]), \n",
    "          len(df_raw[df_raw['target'] == 1]), \n",
    "          len(df_raw[df_raw['target'] == 2])]\n",
    "\n",
    "plt.figure(figsize=(6, 4))\n",
    "plt.bar(names, values)"
   ]
  },
  {
   "cell_type": "markdown",
   "id": "a16fb5cd",
   "metadata": {
    "id": "a16fb5cd"
   },
   "source": [
    "Вывод: классы распределены равномерно"
   ]
  },
  {
   "cell_type": "markdown",
   "id": "4b47b013",
   "metadata": {
    "id": "4b47b013"
   },
   "source": [
    "### Предобработка"
   ]
  },
  {
   "cell_type": "markdown",
   "id": "7a661d0d",
   "metadata": {
    "id": "7a661d0d"
   },
   "source": [
    "Объединим вместе `Title` и `Body` для более удобной работы с ними, а также удалим признак `Tags`."
   ]
  },
  {
   "cell_type": "code",
   "execution_count": 8,
   "id": "64a6da30",
   "metadata": {
    "id": "64a6da30"
   },
   "outputs": [],
   "source": [
    "def df_join(df_raw):\n",
    "    df_raw['txt'] = df_raw['Title'] + ' ' + df_raw['Body']\n",
    "    df_train = df_raw.drop(['Tags'], axis=1)\n",
    "    return df_train"
   ]
  },
  {
   "cell_type": "code",
   "execution_count": 9,
   "id": "ddbde9c1",
   "metadata": {
    "colab": {
     "base_uri": "https://localhost:8080/",
     "height": 455
    },
    "id": "ddbde9c1",
    "outputId": "b49d0e57-b5bc-42f1-ddd8-22140682fa23"
   },
   "outputs": [
    {
     "data": {
      "text/html": [
       "<div>\n",
       "<style scoped>\n",
       "    .dataframe tbody tr th:only-of-type {\n",
       "        vertical-align: middle;\n",
       "    }\n",
       "\n",
       "    .dataframe tbody tr th {\n",
       "        vertical-align: top;\n",
       "    }\n",
       "\n",
       "    .dataframe thead th {\n",
       "        text-align: right;\n",
       "    }\n",
       "</style>\n",
       "<table border=\"1\" class=\"dataframe\">\n",
       "  <thead>\n",
       "    <tr style=\"text-align: right;\">\n",
       "      <th></th>\n",
       "      <th>Body</th>\n",
       "      <th>Title</th>\n",
       "      <th>target</th>\n",
       "      <th>txt</th>\n",
       "    </tr>\n",
       "    <tr>\n",
       "      <th>Id</th>\n",
       "      <th></th>\n",
       "      <th></th>\n",
       "      <th></th>\n",
       "      <th></th>\n",
       "    </tr>\n",
       "  </thead>\n",
       "  <tbody>\n",
       "    <tr>\n",
       "      <th>34862324</th>\n",
       "      <td>Algorithmm:\\r\\n\\r\\n**input :** Graph G\\r\\n\\r\\n...</td>\n",
       "      <td>I am implementing a Minimum Spanning Forrest a...</td>\n",
       "      <td>2</td>\n",
       "      <td>I am implementing a Minimum Spanning Forrest a...</td>\n",
       "    </tr>\n",
       "    <tr>\n",
       "      <th>47303682</th>\n",
       "      <td>While converting the data frame to HTML, Date ...</td>\n",
       "      <td>R Studio: Date is getting converted to number,...</td>\n",
       "      <td>2</td>\n",
       "      <td>R Studio: Date is getting converted to number,...</td>\n",
       "    </tr>\n",
       "    <tr>\n",
       "      <th>46431243</th>\n",
       "      <td>&lt;p&gt;This should be an easy one, but somehow I c...</td>\n",
       "      <td>Pandas - dataframe groupby - how to get sum of...</td>\n",
       "      <td>0</td>\n",
       "      <td>Pandas - dataframe groupby - how to get sum of...</td>\n",
       "    </tr>\n",
       "    <tr>\n",
       "      <th>45306324</th>\n",
       "      <td>&lt;p&gt;Let say I have a component in Angular 2 tha...</td>\n",
       "      <td>Casting results from Observable.forkJoin to th...</td>\n",
       "      <td>0</td>\n",
       "      <td>Casting results from Observable.forkJoin to th...</td>\n",
       "    </tr>\n",
       "    <tr>\n",
       "      <th>49479547</th>\n",
       "      <td>&lt;p&gt;I'm setting a var using \\n&lt;code&gt;set TEST_VA...</td>\n",
       "      <td>Environment variable set in batch file cannot ...</td>\n",
       "      <td>1</td>\n",
       "      <td>Environment variable set in batch file cannot ...</td>\n",
       "    </tr>\n",
       "    <tr>\n",
       "      <th>...</th>\n",
       "      <td>...</td>\n",
       "      <td>...</td>\n",
       "      <td>...</td>\n",
       "      <td>...</td>\n",
       "    </tr>\n",
       "    <tr>\n",
       "      <th>35488105</th>\n",
       "      <td>&lt;p&gt;Aspx Webpage accepting value in DD/mm/yyyy ...</td>\n",
       "      <td>textbox user control not displaying date in DD...</td>\n",
       "      <td>1</td>\n",
       "      <td>textbox user control not displaying date in DD...</td>\n",
       "    </tr>\n",
       "    <tr>\n",
       "      <th>37045803</th>\n",
       "      <td>&lt;p&gt;I am making a program in C#. I want it to d...</td>\n",
       "      <td>C# do something based on image detection</td>\n",
       "      <td>1</td>\n",
       "      <td>C# do something based on image detection &lt;p&gt;I ...</td>\n",
       "    </tr>\n",
       "    <tr>\n",
       "      <th>43601747</th>\n",
       "      <td>&lt;p&gt;The &lt;a href=\"https://kafka.apache.org/0100/...</td>\n",
       "      <td>KafkaProducer: Difference between `callback` a...</td>\n",
       "      <td>0</td>\n",
       "      <td>KafkaProducer: Difference between `callback` a...</td>\n",
       "    </tr>\n",
       "    <tr>\n",
       "      <th>40505904</th>\n",
       "      <td>&lt;p&gt;Using the new pull request approval process...</td>\n",
       "      <td>Is there a way to make Github un-approve a pul...</td>\n",
       "      <td>0</td>\n",
       "      <td>Is there a way to make Github un-approve a pul...</td>\n",
       "    </tr>\n",
       "    <tr>\n",
       "      <th>40415937</th>\n",
       "      <td>i have taken three arrays one Array for saving...</td>\n",
       "      <td>how to delete more than two Array Objects in t...</td>\n",
       "      <td>2</td>\n",
       "      <td>how to delete more than two Array Objects in t...</td>\n",
       "    </tr>\n",
       "  </tbody>\n",
       "</table>\n",
       "<p>48000 rows × 4 columns</p>\n",
       "</div>"
      ],
      "text/plain": [
       "                                                       Body  ...                                                txt\n",
       "Id                                                           ...                                                   \n",
       "34862324  Algorithmm:\\r\\n\\r\\n**input :** Graph G\\r\\n\\r\\n...  ...  I am implementing a Minimum Spanning Forrest a...\n",
       "47303682  While converting the data frame to HTML, Date ...  ...  R Studio: Date is getting converted to number,...\n",
       "46431243  <p>This should be an easy one, but somehow I c...  ...  Pandas - dataframe groupby - how to get sum of...\n",
       "45306324  <p>Let say I have a component in Angular 2 tha...  ...  Casting results from Observable.forkJoin to th...\n",
       "49479547  <p>I'm setting a var using \\n<code>set TEST_VA...  ...  Environment variable set in batch file cannot ...\n",
       "...                                                     ...  ...                                                ...\n",
       "35488105  <p>Aspx Webpage accepting value in DD/mm/yyyy ...  ...  textbox user control not displaying date in DD...\n",
       "37045803  <p>I am making a program in C#. I want it to d...  ...  C# do something based on image detection <p>I ...\n",
       "43601747  <p>The <a href=\"https://kafka.apache.org/0100/...  ...  KafkaProducer: Difference between `callback` a...\n",
       "40505904  <p>Using the new pull request approval process...  ...  Is there a way to make Github un-approve a pul...\n",
       "40415937  i have taken three arrays one Array for saving...  ...  how to delete more than two Array Objects in t...\n",
       "\n",
       "[48000 rows x 4 columns]"
      ]
     },
     "execution_count": 9,
     "metadata": {},
     "output_type": "execute_result"
    }
   ],
   "source": [
    "df_train = df_join(df_raw)\n",
    "df_train"
   ]
  },
  {
   "cell_type": "code",
   "execution_count": 10,
   "id": "d09c8e15",
   "metadata": {
    "id": "d09c8e15"
   },
   "outputs": [],
   "source": [
    "df_train['txt'] = df_train['txt'].str.lower()"
   ]
  },
  {
   "cell_type": "code",
   "execution_count": 11,
   "id": "BieeqdYFxjKj",
   "metadata": {
    "colab": {
     "base_uri": "https://localhost:8080/"
    },
    "id": "BieeqdYFxjKj",
    "outputId": "9eeff998-c425-4231-9e06-7d6a9b1f9aee"
   },
   "outputs": [
    {
     "data": {
      "text/plain": [
       "Id\n",
       "34862324    i am implementing a minimum spanning forrest a...\n",
       "47303682    r studio: date is getting converted to number,...\n",
       "46431243    pandas - dataframe groupby - how to get sum of...\n",
       "45306324    casting results from observable.forkjoin to th...\n",
       "49479547    environment variable set in batch file cannot ...\n",
       "                                  ...                        \n",
       "35488105    textbox user control not displaying date in dd...\n",
       "37045803    c# do something based on image detection <p>i ...\n",
       "43601747    kafkaproducer: difference between `callback` a...\n",
       "40505904    is there a way to make github un-approve a pul...\n",
       "40415937    how to delete more than two array objects in t...\n",
       "Name: txt, Length: 48000, dtype: object"
      ]
     },
     "execution_count": 11,
     "metadata": {},
     "output_type": "execute_result"
    }
   ],
   "source": [
    "df_train['txt']"
   ]
  },
  {
   "cell_type": "markdown",
   "id": "cc0dba0b",
   "metadata": {
    "id": "cc0dba0b"
   },
   "source": [
    "### Векторизация"
   ]
  },
  {
   "cell_type": "markdown",
   "id": "836e7502",
   "metadata": {
    "id": "836e7502"
   },
   "source": [
    "##### Bow"
   ]
  },
  {
   "cell_type": "code",
   "execution_count": 12,
   "id": "e8cae513",
   "metadata": {
    "id": "e8cae513"
   },
   "outputs": [],
   "source": [
    "from sklearn.feature_extraction.text import CountVectorizer"
   ]
  },
  {
   "cell_type": "code",
   "execution_count": 13,
   "id": "eb3c8dd9",
   "metadata": {
    "id": "eb3c8dd9"
   },
   "outputs": [],
   "source": [
    "def bow(X_train, X_val):\n",
    "    bow_vectorizer = CountVectorizer(stop_words='english')\n",
    "    X_train = bow_vectorizer.fit_transform(X_train['txt'])\n",
    "    X_val = bow_vectorizer.transform(X_val['txt'])\n",
    "    return X_train, X_val"
   ]
  },
  {
   "cell_type": "markdown",
   "id": "f28ece17",
   "metadata": {
    "id": "f28ece17"
   },
   "source": [
    "##### Tfidf"
   ]
  },
  {
   "cell_type": "code",
   "execution_count": 14,
   "id": "1d5abb7b",
   "metadata": {
    "id": "1d5abb7b"
   },
   "outputs": [],
   "source": [
    "from sklearn.feature_extraction.text import TfidfVectorizer"
   ]
  },
  {
   "cell_type": "code",
   "execution_count": 15,
   "id": "0a4be686",
   "metadata": {
    "id": "0a4be686"
   },
   "outputs": [],
   "source": [
    "def tf_idf(X_train, X_val):\n",
    "    vectorizer = TfidfVectorizer()\n",
    "    X_train = vectorizer.fit_transform(X_train['txt'])\n",
    "    X_val = vectorizer.transform(X_val['txt'])\n",
    "    return X_train, X_val"
   ]
  },
  {
   "cell_type": "markdown",
   "id": "f0d46559",
   "metadata": {
    "id": "f0d46559"
   },
   "source": [
    "### Разделение данных"
   ]
  },
  {
   "cell_type": "code",
   "execution_count": 16,
   "id": "493d67b1",
   "metadata": {
    "colab": {
     "base_uri": "https://localhost:8080/"
    },
    "id": "493d67b1",
    "outputId": "66c616fb-aa7d-4a2c-be59-62c04d59aa44"
   },
   "outputs": [
    {
     "data": {
      "text/plain": [
       "((40800, 4), (7200, 4), (12000, 3))"
      ]
     },
     "execution_count": 16,
     "metadata": {},
     "output_type": "execute_result"
    }
   ],
   "source": [
    "df_train, df_val = train_test_split(df_train, test_size=0.15, random_state=11, stratify=df_train['target'])\n",
    "df_train.shape, df_val.shape, df_test.shape"
   ]
  },
  {
   "cell_type": "code",
   "execution_count": 17,
   "id": "7b8aefb6",
   "metadata": {
    "colab": {
     "base_uri": "https://localhost:8080/"
    },
    "id": "7b8aefb6",
    "outputId": "a40d69fd-ee3e-4285-b506-4e5edddb3534"
   },
   "outputs": [
    {
     "data": {
      "text/plain": [
       "((40800,), (7200,), (40800, 3), (7200, 3))"
      ]
     },
     "execution_count": 17,
     "metadata": {},
     "output_type": "execute_result"
    }
   ],
   "source": [
    "y_train = df_train['target'].values\n",
    "y_val = df_val['target'].values\n",
    "X_train = df_train.drop(['target'], axis=1)\n",
    "X_val = df_val.drop(['target'], axis=1)\n",
    "y_train.shape, y_val.shape, X_train.shape, X_val.shape"
   ]
  },
  {
   "cell_type": "markdown",
   "id": "4d7ad54d",
   "metadata": {
    "id": "4d7ad54d"
   },
   "source": [
    "### Классические классификаторы"
   ]
  },
  {
   "cell_type": "markdown",
   "id": "a9a3952a",
   "metadata": {
    "id": "a9a3952a"
   },
   "source": [
    "##### kNN"
   ]
  },
  {
   "cell_type": "code",
   "execution_count": 18,
   "id": "9d61904c",
   "metadata": {
    "id": "9d61904c"
   },
   "outputs": [],
   "source": [
    "from sklearn.neighbors import KNeighborsClassifier"
   ]
  },
  {
   "cell_type": "code",
   "execution_count": 19,
   "id": "cac3cf6b",
   "metadata": {
    "id": "cac3cf6b"
   },
   "outputs": [],
   "source": [
    "def kNN(X_train_vec,y_train,X_val_vec,y_val):\n",
    "    kNN = KNeighborsClassifier()\n",
    "    kNN.fit(X_train_vec, y_train)\n",
    "    y = kNN.predict(X_val_vec)\n",
    "    print(f1_score(y_val, y, average='macro'))\n",
    "    return kNN.score(X_val_vec, y_val)"
   ]
  },
  {
   "cell_type": "markdown",
   "id": "94eda0d1",
   "metadata": {
    "id": "94eda0d1"
   },
   "source": [
    "##### LogisticRegression"
   ]
  },
  {
   "cell_type": "code",
   "execution_count": 20,
   "id": "9be859ce",
   "metadata": {
    "id": "9be859ce"
   },
   "outputs": [],
   "source": [
    "from sklearn.linear_model import LogisticRegression"
   ]
  },
  {
   "cell_type": "code",
   "execution_count": 21,
   "id": "5d111436",
   "metadata": {
    "id": "5d111436"
   },
   "outputs": [],
   "source": [
    "def Log_reg(X_train_vec,y_train,X_val_vec,y_val):\n",
    "    lr = LogisticRegression()\n",
    "    lr.fit(X_train_vec, y_train)\n",
    "    y = lr.predict(X_val_vec)\n",
    "    print(f1_score(y_val, y, average='macro'))\n",
    "    return lr.score(X_val_vec, y_val)"
   ]
  },
  {
   "cell_type": "markdown",
   "id": "9be4a31d",
   "metadata": {
    "id": "9be4a31d"
   },
   "source": [
    "-----------------------"
   ]
  },
  {
   "cell_type": "markdown",
   "id": "a2a776f1",
   "metadata": {
    "id": "a2a776f1"
   },
   "source": [
    "LogisticRegression + bow"
   ]
  },
  {
   "cell_type": "code",
   "execution_count": 22,
   "id": "32b9f8ab",
   "metadata": {
    "id": "32b9f8ab"
   },
   "outputs": [],
   "source": [
    "X_train_vec, X_val_vec = bow(X_train, X_val)"
   ]
  },
  {
   "cell_type": "code",
   "execution_count": 23,
   "id": "1f12b2b6",
   "metadata": {
    "colab": {
     "base_uri": "https://localhost:8080/"
    },
    "id": "1f12b2b6",
    "outputId": "368f3215-bed8-4935-f70f-dc580162371d"
   },
   "outputs": [
    {
     "name": "stdout",
     "output_type": "stream",
     "text": [
      "0.8033353732876752\n"
     ]
    },
    {
     "name": "stderr",
     "output_type": "stream",
     "text": [
      "/usr/local/lib/python3.7/dist-packages/sklearn/linear_model/_logistic.py:818: ConvergenceWarning: lbfgs failed to converge (status=1):\n",
      "STOP: TOTAL NO. of ITERATIONS REACHED LIMIT.\n",
      "\n",
      "Increase the number of iterations (max_iter) or scale the data as shown in:\n",
      "    https://scikit-learn.org/stable/modules/preprocessing.html\n",
      "Please also refer to the documentation for alternative solver options:\n",
      "    https://scikit-learn.org/stable/modules/linear_model.html#logistic-regression\n",
      "  extra_warning_msg=_LOGISTIC_SOLVER_CONVERGENCE_MSG,\n"
     ]
    },
    {
     "data": {
      "text/plain": [
       "0.8027777777777778"
      ]
     },
     "execution_count": 23,
     "metadata": {},
     "output_type": "execute_result"
    }
   ],
   "source": [
    "LR_score = Log_reg(X_train_vec,y_train,X_val_vec,y_val)\n",
    "LR_score"
   ]
  },
  {
   "cell_type": "markdown",
   "id": "7543a168",
   "metadata": {
    "id": "7543a168"
   },
   "source": [
    "LogisticRegression + tfidf"
   ]
  },
  {
   "cell_type": "code",
   "execution_count": 24,
   "id": "30779270",
   "metadata": {
    "id": "30779270"
   },
   "outputs": [],
   "source": [
    "X_train_vec, X_val_vec = tf_idf(X_train, X_val)"
   ]
  },
  {
   "cell_type": "code",
   "execution_count": 25,
   "id": "812d63a9",
   "metadata": {
    "colab": {
     "base_uri": "https://localhost:8080/"
    },
    "id": "812d63a9",
    "outputId": "d921e6b7-8a8c-4bd5-8036-6078c5c0c51f"
   },
   "outputs": [
    {
     "name": "stdout",
     "output_type": "stream",
     "text": [
      "0.821488984915161\n"
     ]
    },
    {
     "name": "stderr",
     "output_type": "stream",
     "text": [
      "/usr/local/lib/python3.7/dist-packages/sklearn/linear_model/_logistic.py:818: ConvergenceWarning: lbfgs failed to converge (status=1):\n",
      "STOP: TOTAL NO. of ITERATIONS REACHED LIMIT.\n",
      "\n",
      "Increase the number of iterations (max_iter) or scale the data as shown in:\n",
      "    https://scikit-learn.org/stable/modules/preprocessing.html\n",
      "Please also refer to the documentation for alternative solver options:\n",
      "    https://scikit-learn.org/stable/modules/linear_model.html#logistic-regression\n",
      "  extra_warning_msg=_LOGISTIC_SOLVER_CONVERGENCE_MSG,\n"
     ]
    },
    {
     "data": {
      "text/plain": [
       "0.8225"
      ]
     },
     "execution_count": 25,
     "metadata": {},
     "output_type": "execute_result"
    }
   ],
   "source": [
    "LR_score = Log_reg(X_train_vec,y_train,X_val_vec,y_val)\n",
    "LR_score"
   ]
  },
  {
   "cell_type": "markdown",
   "id": "fbd8d96c",
   "metadata": {
    "id": "fbd8d96c"
   },
   "source": [
    "kNN + bow"
   ]
  },
  {
   "cell_type": "code",
   "execution_count": 26,
   "id": "7dd9806a",
   "metadata": {
    "id": "7dd9806a"
   },
   "outputs": [],
   "source": [
    "X_train_vec, X_val_vec = bow(X_train, X_val)"
   ]
  },
  {
   "cell_type": "code",
   "execution_count": 27,
   "id": "35ab55da",
   "metadata": {
    "colab": {
     "base_uri": "https://localhost:8080/"
    },
    "id": "35ab55da",
    "outputId": "e733f9f2-4adc-4bae-84ed-fa976af29210"
   },
   "outputs": [
    {
     "name": "stdout",
     "output_type": "stream",
     "text": [
      "0.5647138392332417\n"
     ]
    },
    {
     "data": {
      "text/plain": [
       "0.5713888888888888"
      ]
     },
     "execution_count": 27,
     "metadata": {},
     "output_type": "execute_result"
    }
   ],
   "source": [
    "kNN_score = kNN(X_train_vec,y_train,X_val_vec,y_val)\n",
    "kNN_score"
   ]
  },
  {
   "cell_type": "markdown",
   "id": "5e8864c9",
   "metadata": {
    "id": "5e8864c9"
   },
   "source": [
    "kNN + tfidf"
   ]
  },
  {
   "cell_type": "code",
   "execution_count": 28,
   "id": "3ddcdec1",
   "metadata": {
    "id": "3ddcdec1"
   },
   "outputs": [],
   "source": [
    "X_train_vec, X_val_vec = tf_idf(X_train, X_val)"
   ]
  },
  {
   "cell_type": "code",
   "execution_count": 29,
   "id": "f6ce404b",
   "metadata": {
    "colab": {
     "base_uri": "https://localhost:8080/"
    },
    "id": "f6ce404b",
    "outputId": "3886348a-ca05-408a-99be-87dc7fe6479c"
   },
   "outputs": [
    {
     "name": "stdout",
     "output_type": "stream",
     "text": [
      "0.6013474490391717\n"
     ]
    },
    {
     "data": {
      "text/plain": [
       "0.6051388888888889"
      ]
     },
     "execution_count": 29,
     "metadata": {},
     "output_type": "execute_result"
    }
   ],
   "source": [
    "kNN_score = kNN(X_train_vec,y_train,X_val_vec,y_val)\n",
    "kNN_score"
   ]
  },
  {
   "cell_type": "markdown",
   "id": "69cca67f",
   "metadata": {
    "id": "69cca67f"
   },
   "source": [
    "### Embeddings"
   ]
  },
  {
   "cell_type": "code",
   "execution_count": 30,
   "id": "aa20cd7d",
   "metadata": {
    "id": "aa20cd7d"
   },
   "outputs": [],
   "source": [
    "from nltk.tokenize import WordPunctTokenizer\n",
    "tokenizer = WordPunctTokenizer()\n",
    "def tokenize(text):\n",
    "    return ' '.join(tokenizer.tokenize(text))"
   ]
  },
  {
   "cell_type": "code",
   "execution_count": 31,
   "id": "sFBpaSRwlV0y",
   "metadata": {
    "id": "sFBpaSRwlV0y"
   },
   "outputs": [],
   "source": [
    "def txt_preprocess(text):\n",
    "    text = tokenize(text)\n",
    "    return text.lower()"
   ]
  },
  {
   "cell_type": "markdown",
   "id": "4OeqdswvOZAy",
   "metadata": {
    "id": "4OeqdswvOZAy"
   },
   "source": [
    "Токенизируем текст из стобца `txt` и применим `lower()` для дальнейшей векторизации"
   ]
  },
  {
   "cell_type": "code",
   "execution_count": 32,
   "id": "qqYww0Oplps1",
   "metadata": {
    "id": "qqYww0Oplps1"
   },
   "outputs": [],
   "source": [
    "X_train['txt'] = X_train['txt'].apply(txt_preprocess)\n",
    "X_val['txt'] = X_val['txt'].apply(txt_preprocess)"
   ]
  },
  {
   "cell_type": "code",
   "execution_count": 33,
   "id": "c6QjCbh2mZxV",
   "metadata": {
    "colab": {
     "base_uri": "https://localhost:8080/"
    },
    "id": "c6QjCbh2mZxV",
    "outputId": "2a5d9601-0770-44df-ab65-629aa076fd37"
   },
   "outputs": [
    {
     "data": {
      "text/plain": [
       "Id\n",
       "38547307    accessing perl array in bash < p > i have a pe...\n",
       "36899040    printing arraylist < string > into output ? < ...\n",
       "36699708    how do i reference and dereference different d...\n",
       "47857677    having trouble making my website responsive i ...\n",
       "38228255    need to implement virtual wallet in an ios app...\n",
       "                                  ...                        \n",
       "35137280    how to put something on the screen ? < p > i u...\n",
       "56489569    google apps script replyall on existing thread...\n",
       "55508326    what is the best way to create a class structu...\n",
       "55410576    print multiple values from nested dictionaries...\n",
       "51344028    tslint , enforce spacing between brackets in i...\n",
       "Name: txt, Length: 40800, dtype: object"
      ]
     },
     "execution_count": 33,
     "metadata": {},
     "output_type": "execute_result"
    }
   ],
   "source": [
    "X_train['txt']"
   ]
  },
  {
   "cell_type": "markdown",
   "id": "7adae884",
   "metadata": {
    "id": "7adae884"
   },
   "source": [
    "##### Word2vec"
   ]
  },
  {
   "cell_type": "code",
   "execution_count": 34,
   "id": "1f44536b",
   "metadata": {
    "id": "1f44536b"
   },
   "outputs": [],
   "source": [
    "import gensim\n",
    "from gensim.models import Word2Vec, KeyedVectors"
   ]
  },
  {
   "cell_type": "code",
   "execution_count": 35,
   "id": "852dd71e",
   "metadata": {
    "colab": {
     "base_uri": "https://localhost:8080/"
    },
    "id": "852dd71e",
    "outputId": "9c1b1169-c1f3-4fcd-f420-a6154e825835"
   },
   "outputs": [
    {
     "name": "stdout",
     "output_type": "stream",
     "text": [
      "{'corpora': {'semeval-2016-2017-task3-subtaskBC': {'num_records': -1, 'record_format': 'dict', 'file_size': 6344358, 'reader_code': 'https://github.com/RaRe-Technologies/gensim-data/releases/download/semeval-2016-2017-task3-subtaskB-eng/__init__.py', 'license': 'All files released for the task are free for general research use', 'fields': {'2016-train': ['...'], '2016-dev': ['...'], '2017-test': ['...'], '2016-test': ['...']}, 'description': 'SemEval 2016 / 2017 Task 3 Subtask B and C datasets contain train+development (317 original questions, 3,169 related questions, and 31,690 comments), and test datasets in English. The description of the tasks and the collected data is given in sections 3 and 4.1 of the task paper http://alt.qcri.org/semeval2016/task3/data/uploads/semeval2016-task3-report.pdf linked in section “Papers” of https://github.com/RaRe-Technologies/gensim-data/issues/18.', 'checksum': '701ea67acd82e75f95e1d8e62fb0ad29', 'file_name': 'semeval-2016-2017-task3-subtaskBC.gz', 'read_more': ['http://alt.qcri.org/semeval2017/task3/', 'http://alt.qcri.org/semeval2017/task3/data/uploads/semeval2017-task3.pdf', 'https://github.com/RaRe-Technologies/gensim-data/issues/18', 'https://github.com/Witiko/semeval-2016_2017-task3-subtaskB-english'], 'parts': 1}, 'semeval-2016-2017-task3-subtaskA-unannotated': {'num_records': 189941, 'record_format': 'dict', 'file_size': 234373151, 'reader_code': 'https://github.com/RaRe-Technologies/gensim-data/releases/download/semeval-2016-2017-task3-subtaskA-unannotated-eng/__init__.py', 'license': 'These datasets are free for general research use.', 'fields': {'THREAD_SEQUENCE': '', 'RelQuestion': {'RELQ_CATEGORY': 'question category, according to the Qatar Living taxonomy', 'RELQ_DATE': 'date of posting', 'RELQ_ID': 'question indentifier', 'RELQ_USERID': 'identifier of the user asking the question', 'RELQ_USERNAME': 'name of the user asking the question', 'RelQBody': 'body of question', 'RelQSubject': 'subject of question'}, 'RelComments': [{'RelCText': 'text of answer', 'RELC_USERID': 'identifier of the user posting the comment', 'RELC_ID': 'comment identifier', 'RELC_USERNAME': 'name of the user posting the comment', 'RELC_DATE': 'date of posting'}]}, 'description': 'SemEval 2016 / 2017 Task 3 Subtask A unannotated dataset contains 189,941 questions and 1,894,456 comments in English collected from the Community Question Answering (CQA) web forum of Qatar Living. These can be used as a corpus for language modelling.', 'checksum': '2de0e2f2c4f91c66ae4fcf58d50ba816', 'file_name': 'semeval-2016-2017-task3-subtaskA-unannotated.gz', 'read_more': ['http://alt.qcri.org/semeval2016/task3/', 'http://alt.qcri.org/semeval2016/task3/data/uploads/semeval2016-task3-report.pdf', 'https://github.com/RaRe-Technologies/gensim-data/issues/18', 'https://github.com/Witiko/semeval-2016_2017-task3-subtaskA-unannotated-english'], 'parts': 1}, 'patent-2017': {'num_records': 353197, 'record_format': 'dict', 'file_size': 3087262469, 'reader_code': 'https://github.com/RaRe-Technologies/gensim-data/releases/download/patent-2017/__init__.py', 'license': 'not found', 'description': \"Patent Grant Full Text. Contains the full text including tables, sequence data and 'in-line' mathematical expressions of each patent grant issued in 2017.\", 'checksum-0': '818501f0b9af62d3b88294d86d509f8f', 'checksum-1': '66c05635c1d3c7a19b4a335829d09ffa', 'file_name': 'patent-2017.gz', 'read_more': ['http://patents.reedtech.com/pgrbft.php'], 'parts': 2}, 'quora-duplicate-questions': {'num_records': 404290, 'record_format': 'dict', 'file_size': 21684784, 'reader_code': 'https://github.com/RaRe-Technologies/gensim-data/releases/download/quora-duplicate-questions/__init__.py', 'license': 'probably https://www.quora.com/about/tos', 'fields': {'question1': 'the full text of each question', 'question2': 'the full text of each question', 'qid1': 'unique ids of each question', 'qid2': 'unique ids of each question', 'id': 'the id of a training set question pair', 'is_duplicate': 'the target variable, set to 1 if question1 and question2 have essentially the same meaning, and 0 otherwise'}, 'description': 'Over 400,000 lines of potential question duplicate pairs. Each line contains IDs for each question in the pair, the full text for each question, and a binary value that indicates whether the line contains a duplicate pair or not.', 'checksum': 'd7cfa7fbc6e2ec71ab74c495586c6365', 'file_name': 'quora-duplicate-questions.gz', 'read_more': ['https://data.quora.com/First-Quora-Dataset-Release-Question-Pairs'], 'parts': 1}, 'wiki-english-20171001': {'num_records': 4924894, 'record_format': 'dict', 'file_size': 6516051717, 'reader_code': 'https://github.com/RaRe-Technologies/gensim-data/releases/download/wiki-english-20171001/__init__.py', 'license': 'https://dumps.wikimedia.org/legal.html', 'fields': {'section_texts': 'list of body of sections', 'section_titles': 'list of titles of sections', 'title': 'Title of wiki article'}, 'description': 'Extracted Wikipedia dump from October 2017. Produced by `python -m gensim.scripts.segment_wiki -f enwiki-20171001-pages-articles.xml.bz2 -o wiki-en.gz`', 'checksum-0': 'a7d7d7fd41ea7e2d7fa32ec1bb640d71', 'checksum-1': 'b2683e3356ffbca3b6c2dca6e9801f9f', 'checksum-2': 'c5cde2a9ae77b3c4ebce804f6df542c2', 'checksum-3': '00b71144ed5e3aeeb885de84f7452b81', 'file_name': 'wiki-english-20171001.gz', 'read_more': ['https://dumps.wikimedia.org/enwiki/20171001/'], 'parts': 4}, 'text8': {'num_records': 1701, 'record_format': 'list of str (tokens)', 'file_size': 33182058, 'reader_code': 'https://github.com/RaRe-Technologies/gensim-data/releases/download/text8/__init__.py', 'license': 'not found', 'description': 'First 100,000,000 bytes of plain text from Wikipedia. Used for testing purposes; see wiki-english-* for proper full Wikipedia datasets.', 'checksum': '68799af40b6bda07dfa47a32612e5364', 'file_name': 'text8.gz', 'read_more': ['http://mattmahoney.net/dc/textdata.html'], 'parts': 1}, 'fake-news': {'num_records': 12999, 'record_format': 'dict', 'file_size': 20102776, 'reader_code': 'https://github.com/RaRe-Technologies/gensim-data/releases/download/fake-news/__init__.py', 'license': 'https://creativecommons.org/publicdomain/zero/1.0/', 'fields': {'crawled': 'date the story was archived', 'ord_in_thread': '', 'published': 'date published', 'participants_count': 'number of participants', 'shares': 'number of Facebook shares', 'replies_count': 'number of replies', 'main_img_url': 'image from story', 'spam_score': 'data from webhose.io', 'uuid': 'unique identifier', 'language': 'data from webhose.io', 'title': 'title of story', 'country': 'data from webhose.io', 'domain_rank': 'data from webhose.io', 'author': 'author of story', 'comments': 'number of Facebook comments', 'site_url': 'site URL from BS detector', 'text': 'text of story', 'thread_title': '', 'type': 'type of website (label from BS detector)', 'likes': 'number of Facebook likes'}, 'description': \"News dataset, contains text and metadata from 244 websites and represents 12,999 posts in total from a specific window of 30 days. The data was pulled using the webhose.io API, and because it's coming from their crawler, not all websites identified by their BS Detector are present in this dataset. Data sources that were missing a label were simply assigned a label of 'bs'. There are (ostensibly) no genuine, reliable, or trustworthy news sources represented in this dataset (so far), so don't trust anything you read.\", 'checksum': '5e64e942df13219465927f92dcefd5fe', 'file_name': 'fake-news.gz', 'read_more': ['https://www.kaggle.com/mrisdal/fake-news'], 'parts': 1}, '20-newsgroups': {'num_records': 18846, 'record_format': 'dict', 'file_size': 14483581, 'reader_code': 'https://github.com/RaRe-Technologies/gensim-data/releases/download/20-newsgroups/__init__.py', 'license': 'not found', 'fields': {'topic': 'name of topic (20 variant of possible values)', 'set': \"marker of original split (possible values 'train' and 'test')\", 'data': '', 'id': 'original id inferred from folder name'}, 'description': 'The notorious collection of approximately 20,000 newsgroup posts, partitioned (nearly) evenly across 20 different newsgroups.', 'checksum': 'c92fd4f6640a86d5ba89eaad818a9891', 'file_name': '20-newsgroups.gz', 'read_more': ['http://qwone.com/~jason/20Newsgroups/'], 'parts': 1}, '__testing_matrix-synopsis': {'description': '[THIS IS ONLY FOR TESTING] Synopsis of the movie matrix.', 'checksum': '1767ac93a089b43899d54944b07d9dc5', 'file_name': '__testing_matrix-synopsis.gz', 'read_more': ['http://www.imdb.com/title/tt0133093/plotsummary?ref_=ttpl_pl_syn#synopsis'], 'parts': 1}, '__testing_multipart-matrix-synopsis': {'description': '[THIS IS ONLY FOR TESTING] Synopsis of the movie matrix.', 'checksum-0': 'c8b0c7d8cf562b1b632c262a173ac338', 'checksum-1': '5ff7fc6818e9a5d9bc1cf12c35ed8b96', 'checksum-2': '966db9d274d125beaac7987202076cba', 'file_name': '__testing_multipart-matrix-synopsis.gz', 'read_more': ['http://www.imdb.com/title/tt0133093/plotsummary?ref_=ttpl_pl_syn#synopsis'], 'parts': 3}}, 'models': {'fasttext-wiki-news-subwords-300': {'num_records': 999999, 'file_size': 1005007116, 'base_dataset': 'Wikipedia 2017, UMBC webbase corpus and statmt.org news dataset (16B tokens)', 'reader_code': 'https://github.com/RaRe-Technologies/gensim-data/releases/download/fasttext-wiki-news-subwords-300/__init__.py', 'license': 'https://creativecommons.org/licenses/by-sa/3.0/', 'parameters': {'dimension': 300}, 'description': '1 million word vectors trained on Wikipedia 2017, UMBC webbase corpus and statmt.org news dataset (16B tokens).', 'read_more': ['https://fasttext.cc/docs/en/english-vectors.html', 'https://arxiv.org/abs/1712.09405', 'https://arxiv.org/abs/1607.01759'], 'checksum': 'de2bb3a20c46ce65c9c131e1ad9a77af', 'file_name': 'fasttext-wiki-news-subwords-300.gz', 'parts': 1}, 'conceptnet-numberbatch-17-06-300': {'num_records': 1917247, 'file_size': 1225497562, 'base_dataset': 'ConceptNet, word2vec, GloVe, and OpenSubtitles 2016', 'reader_code': 'https://github.com/RaRe-Technologies/gensim-data/releases/download/conceptnet-numberbatch-17-06-300/__init__.py', 'license': 'https://github.com/commonsense/conceptnet-numberbatch/blob/master/LICENSE.txt', 'parameters': {'dimension': 300}, 'description': 'ConceptNet Numberbatch consists of state-of-the-art semantic vectors (also known as word embeddings) that can be used directly as a representation of word meanings or as a starting point for further machine learning. ConceptNet Numberbatch is part of the ConceptNet open data project. ConceptNet provides lots of ways to compute with word meanings, one of which is word embeddings. ConceptNet Numberbatch is a snapshot of just the word embeddings. It is built using an ensemble that combines data from ConceptNet, word2vec, GloVe, and OpenSubtitles 2016, using a variation on retrofitting.', 'read_more': ['http://aaai.org/ocs/index.php/AAAI/AAAI17/paper/view/14972', 'https://github.com/commonsense/conceptnet-numberbatch', 'http://conceptnet.io/'], 'checksum': 'fd642d457adcd0ea94da0cd21b150847', 'file_name': 'conceptnet-numberbatch-17-06-300.gz', 'parts': 1}, 'word2vec-ruscorpora-300': {'num_records': 184973, 'file_size': 208427381, 'base_dataset': 'Russian National Corpus (about 250M words)', 'reader_code': 'https://github.com/RaRe-Technologies/gensim-data/releases/download/word2vec-ruscorpora-300/__init__.py', 'license': 'https://creativecommons.org/licenses/by/4.0/deed.en', 'parameters': {'dimension': 300, 'window_size': 10}, 'description': 'Word2vec Continuous Skipgram vectors trained on full Russian National Corpus (about 250M words). The model contains 185K words.', 'preprocessing': 'The corpus was lemmatized and tagged with Universal PoS', 'read_more': ['https://www.academia.edu/24306935/WebVectors_a_Toolkit_for_Building_Web_Interfaces_for_Vector_Semantic_Models', 'http://rusvectores.org/en/', 'https://github.com/RaRe-Technologies/gensim-data/issues/3'], 'checksum': '9bdebdc8ae6d17d20839dd9b5af10bc4', 'file_name': 'word2vec-ruscorpora-300.gz', 'parts': 1}, 'word2vec-google-news-300': {'num_records': 3000000, 'file_size': 1743563840, 'base_dataset': 'Google News (about 100 billion words)', 'reader_code': 'https://github.com/RaRe-Technologies/gensim-data/releases/download/word2vec-google-news-300/__init__.py', 'license': 'not found', 'parameters': {'dimension': 300}, 'description': \"Pre-trained vectors trained on a part of the Google News dataset (about 100 billion words). The model contains 300-dimensional vectors for 3 million words and phrases. The phrases were obtained using a simple data-driven approach described in 'Distributed Representations of Words and Phrases and their Compositionality' (https://code.google.com/archive/p/word2vec/).\", 'read_more': ['https://code.google.com/archive/p/word2vec/', 'https://arxiv.org/abs/1301.3781', 'https://arxiv.org/abs/1310.4546', 'https://www.microsoft.com/en-us/research/publication/linguistic-regularities-in-continuous-space-word-representations/?from=http%3A%2F%2Fresearch.microsoft.com%2Fpubs%2F189726%2Frvecs.pdf'], 'checksum': 'a5e5354d40acb95f9ec66d5977d140ef', 'file_name': 'word2vec-google-news-300.gz', 'parts': 1}, 'glove-wiki-gigaword-50': {'num_records': 400000, 'file_size': 69182535, 'base_dataset': 'Wikipedia 2014 + Gigaword 5 (6B tokens, uncased)', 'reader_code': 'https://github.com/RaRe-Technologies/gensim-data/releases/download/glove-wiki-gigaword-50/__init__.py', 'license': 'http://opendatacommons.org/licenses/pddl/', 'parameters': {'dimension': 50}, 'description': 'Pre-trained vectors based on Wikipedia 2014 + Gigaword, 5.6B tokens, 400K vocab, uncased (https://nlp.stanford.edu/projects/glove/).', 'preprocessing': 'Converted to w2v format with `python -m gensim.scripts.glove2word2vec -i <fname> -o glove-wiki-gigaword-50.txt`.', 'read_more': ['https://nlp.stanford.edu/projects/glove/', 'https://nlp.stanford.edu/pubs/glove.pdf'], 'checksum': 'c289bc5d7f2f02c6dc9f2f9b67641813', 'file_name': 'glove-wiki-gigaword-50.gz', 'parts': 1}, 'glove-wiki-gigaword-100': {'num_records': 400000, 'file_size': 134300434, 'base_dataset': 'Wikipedia 2014 + Gigaword 5 (6B tokens, uncased)', 'reader_code': 'https://github.com/RaRe-Technologies/gensim-data/releases/download/glove-wiki-gigaword-100/__init__.py', 'license': 'http://opendatacommons.org/licenses/pddl/', 'parameters': {'dimension': 100}, 'description': 'Pre-trained vectors based on Wikipedia 2014 + Gigaword 5.6B tokens, 400K vocab, uncased (https://nlp.stanford.edu/projects/glove/).', 'preprocessing': 'Converted to w2v format with `python -m gensim.scripts.glove2word2vec -i <fname> -o glove-wiki-gigaword-100.txt`.', 'read_more': ['https://nlp.stanford.edu/projects/glove/', 'https://nlp.stanford.edu/pubs/glove.pdf'], 'checksum': '40ec481866001177b8cd4cb0df92924f', 'file_name': 'glove-wiki-gigaword-100.gz', 'parts': 1}, 'glove-wiki-gigaword-200': {'num_records': 400000, 'file_size': 264336934, 'base_dataset': 'Wikipedia 2014 + Gigaword 5 (6B tokens, uncased)', 'reader_code': 'https://github.com/RaRe-Technologies/gensim-data/releases/download/glove-wiki-gigaword-200/__init__.py', 'license': 'http://opendatacommons.org/licenses/pddl/', 'parameters': {'dimension': 200}, 'description': 'Pre-trained vectors based on Wikipedia 2014 + Gigaword, 5.6B tokens, 400K vocab, uncased (https://nlp.stanford.edu/projects/glove/).', 'preprocessing': 'Converted to w2v format with `python -m gensim.scripts.glove2word2vec -i <fname> -o glove-wiki-gigaword-200.txt`.', 'read_more': ['https://nlp.stanford.edu/projects/glove/', 'https://nlp.stanford.edu/pubs/glove.pdf'], 'checksum': '59652db361b7a87ee73834a6c391dfc1', 'file_name': 'glove-wiki-gigaword-200.gz', 'parts': 1}, 'glove-wiki-gigaword-300': {'num_records': 400000, 'file_size': 394362229, 'base_dataset': 'Wikipedia 2014 + Gigaword 5 (6B tokens, uncased)', 'reader_code': 'https://github.com/RaRe-Technologies/gensim-data/releases/download/glove-wiki-gigaword-300/__init__.py', 'license': 'http://opendatacommons.org/licenses/pddl/', 'parameters': {'dimension': 300}, 'description': 'Pre-trained vectors based on Wikipedia 2014 + Gigaword, 5.6B tokens, 400K vocab, uncased (https://nlp.stanford.edu/projects/glove/).', 'preprocessing': 'Converted to w2v format with `python -m gensim.scripts.glove2word2vec -i <fname> -o glove-wiki-gigaword-300.txt`.', 'read_more': ['https://nlp.stanford.edu/projects/glove/', 'https://nlp.stanford.edu/pubs/glove.pdf'], 'checksum': '29e9329ac2241937d55b852e8284e89b', 'file_name': 'glove-wiki-gigaword-300.gz', 'parts': 1}, 'glove-twitter-25': {'num_records': 1193514, 'file_size': 109885004, 'base_dataset': 'Twitter (2B tweets, 27B tokens, 1.2M vocab, uncased)', 'reader_code': 'https://github.com/RaRe-Technologies/gensim-data/releases/download/glove-twitter-25/__init__.py', 'license': 'http://opendatacommons.org/licenses/pddl/', 'parameters': {'dimension': 25}, 'description': 'Pre-trained vectors based on 2B tweets, 27B tokens, 1.2M vocab, uncased (https://nlp.stanford.edu/projects/glove/).', 'preprocessing': 'Converted to w2v format with `python -m gensim.scripts.glove2word2vec -i <fname> -o glove-twitter-25.txt`.', 'read_more': ['https://nlp.stanford.edu/projects/glove/', 'https://nlp.stanford.edu/pubs/glove.pdf'], 'checksum': '50db0211d7e7a2dcd362c6b774762793', 'file_name': 'glove-twitter-25.gz', 'parts': 1}, 'glove-twitter-50': {'num_records': 1193514, 'file_size': 209216938, 'base_dataset': 'Twitter (2B tweets, 27B tokens, 1.2M vocab, uncased)', 'reader_code': 'https://github.com/RaRe-Technologies/gensim-data/releases/download/glove-twitter-50/__init__.py', 'license': 'http://opendatacommons.org/licenses/pddl/', 'parameters': {'dimension': 50}, 'description': 'Pre-trained vectors based on 2B tweets, 27B tokens, 1.2M vocab, uncased (https://nlp.stanford.edu/projects/glove/)', 'preprocessing': 'Converted to w2v format with `python -m gensim.scripts.glove2word2vec -i <fname> -o glove-twitter-50.txt`.', 'read_more': ['https://nlp.stanford.edu/projects/glove/', 'https://nlp.stanford.edu/pubs/glove.pdf'], 'checksum': 'c168f18641f8c8a00fe30984c4799b2b', 'file_name': 'glove-twitter-50.gz', 'parts': 1}, 'glove-twitter-100': {'num_records': 1193514, 'file_size': 405932991, 'base_dataset': 'Twitter (2B tweets, 27B tokens, 1.2M vocab, uncased)', 'reader_code': 'https://github.com/RaRe-Technologies/gensim-data/releases/download/glove-twitter-100/__init__.py', 'license': 'http://opendatacommons.org/licenses/pddl/', 'parameters': {'dimension': 100}, 'description': 'Pre-trained vectors based on  2B tweets, 27B tokens, 1.2M vocab, uncased (https://nlp.stanford.edu/projects/glove/)', 'preprocessing': 'Converted to w2v format with `python -m gensim.scripts.glove2word2vec -i <fname> -o glove-twitter-100.txt`.', 'read_more': ['https://nlp.stanford.edu/projects/glove/', 'https://nlp.stanford.edu/pubs/glove.pdf'], 'checksum': 'b04f7bed38756d64cf55b58ce7e97b15', 'file_name': 'glove-twitter-100.gz', 'parts': 1}, 'glove-twitter-200': {'num_records': 1193514, 'file_size': 795373100, 'base_dataset': 'Twitter (2B tweets, 27B tokens, 1.2M vocab, uncased)', 'reader_code': 'https://github.com/RaRe-Technologies/gensim-data/releases/download/glove-twitter-200/__init__.py', 'license': 'http://opendatacommons.org/licenses/pddl/', 'parameters': {'dimension': 200}, 'description': 'Pre-trained vectors based on 2B tweets, 27B tokens, 1.2M vocab, uncased (https://nlp.stanford.edu/projects/glove/).', 'preprocessing': 'Converted to w2v format with `python -m gensim.scripts.glove2word2vec -i <fname> -o glove-twitter-200.txt`.', 'read_more': ['https://nlp.stanford.edu/projects/glove/', 'https://nlp.stanford.edu/pubs/glove.pdf'], 'checksum': 'e52e8392d1860b95d5308a525817d8f9', 'file_name': 'glove-twitter-200.gz', 'parts': 1}, '__testing_word2vec-matrix-synopsis': {'description': '[THIS IS ONLY FOR TESTING] Word vecrors of the movie matrix.', 'parameters': {'dimensions': 50}, 'preprocessing': 'Converted to w2v using a preprocessed corpus. Converted to w2v format with `python3.5 -m gensim.models.word2vec -train <input_filename> -iter 50 -output <output_filename>`.', 'read_more': [], 'checksum': '534dcb8b56a360977a269b7bfc62d124', 'file_name': '__testing_word2vec-matrix-synopsis.gz', 'parts': 1}}}\n"
     ]
    }
   ],
   "source": [
    "import gensim.downloader as api\n",
    "info_datasets = api.info()\n",
    "print(info_datasets)"
   ]
  },
  {
   "cell_type": "code",
   "execution_count": 36,
   "id": "7eyZ4Udp02m-",
   "metadata": {
    "id": "7eyZ4Udp02m-"
   },
   "outputs": [],
   "source": [
    "from gensim.models.keyedvectors import KeyedVectors\n",
    "model_w2v = KeyedVectors.load_word2vec_format('GoogleNews-vectors-negative300.bin', binary=True)"
   ]
  },
  {
   "cell_type": "markdown",
   "id": "FcUGKl_tKjwk",
   "metadata": {
    "id": "FcUGKl_tKjwk"
   },
   "source": [
    "Векторизуем наши данные, используя Word2vec:"
   ]
  },
  {
   "cell_type": "code",
   "execution_count": 37,
   "id": "SEsTBEb0qJKE",
   "metadata": {
    "id": "SEsTBEb0qJKE"
   },
   "outputs": [],
   "source": [
    "X_train_w2v = []\n",
    "for question in X_train['txt']:\n",
    "    words = question.split()\n",
    "    X_train_w2v.append(np.mean([model_w2v[word] for word in words if word in model_w2v.vocab], axis=0))"
   ]
  },
  {
   "cell_type": "code",
   "execution_count": 38,
   "id": "xckWhY3cstG0",
   "metadata": {
    "id": "xckWhY3cstG0"
   },
   "outputs": [],
   "source": [
    "X_val_w2v = []\n",
    "for question in X_val['txt']:\n",
    "    words = question.split()\n",
    "    X_val_w2v.append(np.mean([model_w2v[word] for word in words if word in model_w2v.vocab], axis=0))"
   ]
  },
  {
   "cell_type": "code",
   "execution_count": 39,
   "id": "Y80L82FarUEp",
   "metadata": {
    "colab": {
     "base_uri": "https://localhost:8080/"
    },
    "id": "Y80L82FarUEp",
    "outputId": "a5d4d77c-b1ac-474c-e54c-fb7f3858cb51"
   },
   "outputs": [
    {
     "data": {
      "text/plain": [
       "(7200, 300)"
      ]
     },
     "execution_count": 39,
     "metadata": {},
     "output_type": "execute_result"
    }
   ],
   "source": [
    "len(X_val_w2v), len(X_val_w2v[0])"
   ]
  },
  {
   "cell_type": "markdown",
   "id": "l-Z8tm7uydWM",
   "metadata": {
    "id": "l-Z8tm7uydWM"
   },
   "source": [
    "##### GloVe"
   ]
  },
  {
   "cell_type": "markdown",
   "id": "WhbjIyiLGoI_",
   "metadata": {
    "id": "WhbjIyiLGoI_"
   },
   "source": [
    "Векторизуем наши данные, используя GloVe:"
   ]
  },
  {
   "cell_type": "code",
   "execution_count": 40,
   "id": "IshMUCKiBCTW",
   "metadata": {
    "colab": {
     "base_uri": "https://localhost:8080/"
    },
    "id": "IshMUCKiBCTW",
    "outputId": "3207dfb7-fc6f-4334-fd7a-3f8580f0da12"
   },
   "outputs": [
    {
     "data": {
      "text/plain": [
       "(400000, 300)"
      ]
     },
     "execution_count": 40,
     "metadata": {},
     "output_type": "execute_result"
    }
   ],
   "source": [
    "from gensim.scripts.glove2word2vec import glove2word2vec\n",
    "glove_input_file = 'glove.6B.300d.txt'\n",
    "word2vec_output_file = 'glove.6B.300d.txt.word2vec'\n",
    "glove2word2vec(glove_input_file, word2vec_output_file)"
   ]
  },
  {
   "cell_type": "code",
   "execution_count": 41,
   "id": "YjsyxrSlDk9H",
   "metadata": {
    "id": "YjsyxrSlDk9H"
   },
   "outputs": [],
   "source": [
    "from gensim.models import KeyedVectors\n",
    "filename = 'glove.6B.300d.txt.word2vec'\n",
    "model_glove = KeyedVectors.load_word2vec_format(filename, binary=False)"
   ]
  },
  {
   "cell_type": "code",
   "execution_count": 42,
   "id": "jWYbJ7JW3wA1",
   "metadata": {
    "id": "jWYbJ7JW3wA1"
   },
   "outputs": [],
   "source": [
    "X_train_glove = []\n",
    "for question in X_train['txt']:\n",
    "    words = question.split()\n",
    "    X_train_glove.append(np.mean([model_glove[word] for word in words if word in model_glove.vocab], axis=0))"
   ]
  },
  {
   "cell_type": "code",
   "execution_count": 43,
   "id": "fGVQj6AQE9aK",
   "metadata": {
    "id": "fGVQj6AQE9aK"
   },
   "outputs": [],
   "source": [
    "X_val_glove = []\n",
    "for question in X_val['txt']:\n",
    "    words = question.split()\n",
    "    X_val_glove.append(np.mean([model_glove[word] for word in words if word in model_glove.vocab], axis=0))"
   ]
  },
  {
   "cell_type": "code",
   "execution_count": 44,
   "id": "B-PxEL4LFOrx",
   "metadata": {
    "colab": {
     "base_uri": "https://localhost:8080/"
    },
    "id": "B-PxEL4LFOrx",
    "outputId": "5efe0e6d-bfd7-493f-bc63-984a2d2419e7"
   },
   "outputs": [
    {
     "data": {
      "text/plain": [
       "(7200, 300)"
      ]
     },
     "execution_count": 44,
     "metadata": {},
     "output_type": "execute_result"
    }
   ],
   "source": [
    "len(X_val_glove), len(X_val_glove[0])"
   ]
  },
  {
   "cell_type": "markdown",
   "id": "EfLuhTpzGfYq",
   "metadata": {
    "id": "EfLuhTpzGfYq"
   },
   "source": [
    "w2v + lr"
   ]
  },
  {
   "cell_type": "code",
   "execution_count": 45,
   "id": "fTAbRnurGg-X",
   "metadata": {
    "colab": {
     "base_uri": "https://localhost:8080/"
    },
    "id": "fTAbRnurGg-X",
    "outputId": "6964c5ab-5fb5-4c8b-8dfc-53305b50cb06"
   },
   "outputs": [
    {
     "name": "stdout",
     "output_type": "stream",
     "text": [
      "0.8284382084908123\n"
     ]
    },
    {
     "name": "stderr",
     "output_type": "stream",
     "text": [
      "/usr/local/lib/python3.7/dist-packages/sklearn/linear_model/_logistic.py:818: ConvergenceWarning: lbfgs failed to converge (status=1):\n",
      "STOP: TOTAL NO. of ITERATIONS REACHED LIMIT.\n",
      "\n",
      "Increase the number of iterations (max_iter) or scale the data as shown in:\n",
      "    https://scikit-learn.org/stable/modules/preprocessing.html\n",
      "Please also refer to the documentation for alternative solver options:\n",
      "    https://scikit-learn.org/stable/modules/linear_model.html#logistic-regression\n",
      "  extra_warning_msg=_LOGISTIC_SOLVER_CONVERGENCE_MSG,\n"
     ]
    },
    {
     "data": {
      "text/plain": [
       "0.8295833333333333"
      ]
     },
     "execution_count": 45,
     "metadata": {},
     "output_type": "execute_result"
    }
   ],
   "source": [
    "LR_score = Log_reg(X_train_w2v,y_train,X_val_w2v,y_val)\n",
    "LR_score"
   ]
  },
  {
   "cell_type": "markdown",
   "id": "DezMbAN2G7yY",
   "metadata": {
    "id": "DezMbAN2G7yY"
   },
   "source": [
    "glove + lr"
   ]
  },
  {
   "cell_type": "code",
   "execution_count": 46,
   "id": "stCDTNR_G3X6",
   "metadata": {
    "colab": {
     "base_uri": "https://localhost:8080/"
    },
    "id": "stCDTNR_G3X6",
    "outputId": "9614207f-d34a-4773-dd84-8964f4f81ce0"
   },
   "outputs": [
    {
     "name": "stdout",
     "output_type": "stream",
     "text": [
      "0.8188095521733398\n"
     ]
    },
    {
     "name": "stderr",
     "output_type": "stream",
     "text": [
      "/usr/local/lib/python3.7/dist-packages/sklearn/linear_model/_logistic.py:818: ConvergenceWarning: lbfgs failed to converge (status=1):\n",
      "STOP: TOTAL NO. of ITERATIONS REACHED LIMIT.\n",
      "\n",
      "Increase the number of iterations (max_iter) or scale the data as shown in:\n",
      "    https://scikit-learn.org/stable/modules/preprocessing.html\n",
      "Please also refer to the documentation for alternative solver options:\n",
      "    https://scikit-learn.org/stable/modules/linear_model.html#logistic-regression\n",
      "  extra_warning_msg=_LOGISTIC_SOLVER_CONVERGENCE_MSG,\n"
     ]
    },
    {
     "data": {
      "text/plain": [
       "0.8198611111111112"
      ]
     },
     "execution_count": 46,
     "metadata": {},
     "output_type": "execute_result"
    }
   ],
   "source": [
    "LR_score = Log_reg(X_train_glove,y_train,X_val_glove,y_val)\n",
    "LR_score"
   ]
  },
  {
   "cell_type": "markdown",
   "id": "qlTgJXK9Qg0R",
   "metadata": {
    "id": "qlTgJXK9Qg0R"
   },
   "source": [
    "w2v + kNN"
   ]
  },
  {
   "cell_type": "code",
   "execution_count": 47,
   "id": "oXtMtMUgHBGl",
   "metadata": {
    "colab": {
     "base_uri": "https://localhost:8080/"
    },
    "id": "oXtMtMUgHBGl",
    "outputId": "d8802261-8789-4d20-8fd7-3a8eb09ea63b"
   },
   "outputs": [
    {
     "name": "stdout",
     "output_type": "stream",
     "text": [
      "0.7669457226147692\n"
     ]
    },
    {
     "data": {
      "text/plain": [
       "0.7686111111111111"
      ]
     },
     "execution_count": 47,
     "metadata": {},
     "output_type": "execute_result"
    }
   ],
   "source": [
    "kNN_score = kNN(X_train_w2v,y_train,X_val_w2v,y_val)\n",
    "kNN_score"
   ]
  },
  {
   "cell_type": "markdown",
   "id": "cfFAB7jvQr5z",
   "metadata": {
    "id": "cfFAB7jvQr5z"
   },
   "source": [
    "glove + kNN"
   ]
  },
  {
   "cell_type": "code",
   "execution_count": 48,
   "id": "dvWh5qg5QueQ",
   "metadata": {
    "colab": {
     "base_uri": "https://localhost:8080/"
    },
    "id": "dvWh5qg5QueQ",
    "outputId": "24bb5eac-74ec-4c65-ae01-171ba6e94aee"
   },
   "outputs": [
    {
     "name": "stdout",
     "output_type": "stream",
     "text": [
      "0.7466616126407523\n"
     ]
    },
    {
     "data": {
      "text/plain": [
       "0.7473611111111111"
      ]
     },
     "execution_count": 48,
     "metadata": {},
     "output_type": "execute_result"
    }
   ],
   "source": [
    "kNN_score = kNN(X_train_glove,y_train,X_val_glove,y_val)\n",
    "kNN_score"
   ]
  },
  {
   "cell_type": "markdown",
   "id": "pRL3EwPG0gNz",
   "metadata": {
    "id": "pRL3EwPG0gNz"
   },
   "source": [
    "Используя  Word2vec для линейной регрессии удалось повысить f1_score на $\\approx$ 0.00694922357"
   ]
  },
  {
   "cell_type": "markdown",
   "id": "mjlUPg44HfCd",
   "metadata": {
    "id": "mjlUPg44HfCd"
   },
   "source": [
    "### NN"
   ]
  },
  {
   "cell_type": "code",
   "execution_count": 49,
   "id": "yUgNw_kCVBY2",
   "metadata": {
    "colab": {
     "base_uri": "https://localhost:8080/",
     "height": 628
    },
    "id": "yUgNw_kCVBY2",
    "outputId": "db7b19f7-820e-4165-9b61-96e32fd21ffe"
   },
   "outputs": [
    {
     "data": {
      "text/html": [
       "<div>\n",
       "<style scoped>\n",
       "    .dataframe tbody tr th:only-of-type {\n",
       "        vertical-align: middle;\n",
       "    }\n",
       "\n",
       "    .dataframe tbody tr th {\n",
       "        vertical-align: top;\n",
       "    }\n",
       "\n",
       "    .dataframe thead th {\n",
       "        text-align: right;\n",
       "    }\n",
       "</style>\n",
       "<table border=\"1\" class=\"dataframe\">\n",
       "  <thead>\n",
       "    <tr style=\"text-align: right;\">\n",
       "      <th></th>\n",
       "      <th>Body</th>\n",
       "      <th>Tags</th>\n",
       "      <th>Title</th>\n",
       "      <th>target</th>\n",
       "      <th>txt</th>\n",
       "    </tr>\n",
       "    <tr>\n",
       "      <th>Id</th>\n",
       "      <th></th>\n",
       "      <th></th>\n",
       "      <th></th>\n",
       "      <th></th>\n",
       "      <th></th>\n",
       "    </tr>\n",
       "  </thead>\n",
       "  <tbody>\n",
       "    <tr>\n",
       "      <th>34862324</th>\n",
       "      <td>Algorithmm:\\r\\n\\r\\n**input :** Graph G\\r\\n\\r\\n...</td>\n",
       "      <td>&lt;java&gt;&lt;algorithm&gt;&lt;graph-algorithm&gt;</td>\n",
       "      <td>I am implementing a Minimum Spanning Forrest a...</td>\n",
       "      <td>2</td>\n",
       "      <td>I am implementing a Minimum Spanning Forrest a...</td>\n",
       "    </tr>\n",
       "    <tr>\n",
       "      <th>47303682</th>\n",
       "      <td>While converting the data frame to HTML, Date ...</td>\n",
       "      <td>&lt;html&gt;&lt;r&gt;&lt;dataframe&gt;</td>\n",
       "      <td>R Studio: Date is getting converted to number,...</td>\n",
       "      <td>2</td>\n",
       "      <td>R Studio: Date is getting converted to number,...</td>\n",
       "    </tr>\n",
       "    <tr>\n",
       "      <th>46431243</th>\n",
       "      <td>&lt;p&gt;This should be an easy one, but somehow I c...</td>\n",
       "      <td>&lt;python&gt;&lt;pandas&gt;&lt;dataframe&gt;&lt;pandas-groupby&gt;</td>\n",
       "      <td>Pandas - dataframe groupby - how to get sum of...</td>\n",
       "      <td>0</td>\n",
       "      <td>Pandas - dataframe groupby - how to get sum of...</td>\n",
       "    </tr>\n",
       "    <tr>\n",
       "      <th>45306324</th>\n",
       "      <td>&lt;p&gt;Let say I have a component in Angular 2 tha...</td>\n",
       "      <td>&lt;angular&gt;&lt;typescript&gt;&lt;rxjs&gt;</td>\n",
       "      <td>Casting results from Observable.forkJoin to th...</td>\n",
       "      <td>0</td>\n",
       "      <td>Casting results from Observable.forkJoin to th...</td>\n",
       "    </tr>\n",
       "    <tr>\n",
       "      <th>49479547</th>\n",
       "      <td>&lt;p&gt;I'm setting a var using \\n&lt;code&gt;set TEST_VA...</td>\n",
       "      <td>&lt;c&gt;&lt;windows&gt;&lt;batch-file&gt;</td>\n",
       "      <td>Environment variable set in batch file cannot ...</td>\n",
       "      <td>1</td>\n",
       "      <td>Environment variable set in batch file cannot ...</td>\n",
       "    </tr>\n",
       "    <tr>\n",
       "      <th>...</th>\n",
       "      <td>...</td>\n",
       "      <td>...</td>\n",
       "      <td>...</td>\n",
       "      <td>...</td>\n",
       "      <td>...</td>\n",
       "    </tr>\n",
       "    <tr>\n",
       "      <th>35488105</th>\n",
       "      <td>&lt;p&gt;Aspx Webpage accepting value in DD/mm/yyyy ...</td>\n",
       "      <td>&lt;c#&gt;&lt;asp.net&gt;&lt;datetime&gt;&lt;textbox&gt;</td>\n",
       "      <td>textbox user control not displaying date in DD...</td>\n",
       "      <td>1</td>\n",
       "      <td>textbox user control not displaying date in DD...</td>\n",
       "    </tr>\n",
       "    <tr>\n",
       "      <th>37045803</th>\n",
       "      <td>&lt;p&gt;I am making a program in C#. I want it to d...</td>\n",
       "      <td>&lt;c#&gt;&lt;image&gt;&lt;detection&gt;</td>\n",
       "      <td>C# do something based on image detection</td>\n",
       "      <td>1</td>\n",
       "      <td>C# do something based on image detection &lt;p&gt;I ...</td>\n",
       "    </tr>\n",
       "    <tr>\n",
       "      <th>43601747</th>\n",
       "      <td>&lt;p&gt;The &lt;a href=\"https://kafka.apache.org/0100/...</td>\n",
       "      <td>&lt;java&gt;&lt;apache-kafka&gt;&lt;kafka-producer-api&gt;</td>\n",
       "      <td>KafkaProducer: Difference between `callback` a...</td>\n",
       "      <td>0</td>\n",
       "      <td>KafkaProducer: Difference between `callback` a...</td>\n",
       "    </tr>\n",
       "    <tr>\n",
       "      <th>40505904</th>\n",
       "      <td>&lt;p&gt;Using the new pull request approval process...</td>\n",
       "      <td>&lt;github&gt;</td>\n",
       "      <td>Is there a way to make Github un-approve a pul...</td>\n",
       "      <td>0</td>\n",
       "      <td>Is there a way to make Github un-approve a pul...</td>\n",
       "    </tr>\n",
       "    <tr>\n",
       "      <th>40415937</th>\n",
       "      <td>i have taken three arrays one Array for saving...</td>\n",
       "      <td>&lt;ios&gt;&lt;objective-c&gt;&lt;uitableview&gt;</td>\n",
       "      <td>how to delete more than two Array Objects in t...</td>\n",
       "      <td>2</td>\n",
       "      <td>how to delete more than two Array Objects in t...</td>\n",
       "    </tr>\n",
       "  </tbody>\n",
       "</table>\n",
       "<p>48000 rows × 5 columns</p>\n",
       "</div>"
      ],
      "text/plain": [
       "                                                       Body  ...                                                txt\n",
       "Id                                                           ...                                                   \n",
       "34862324  Algorithmm:\\r\\n\\r\\n**input :** Graph G\\r\\n\\r\\n...  ...  I am implementing a Minimum Spanning Forrest a...\n",
       "47303682  While converting the data frame to HTML, Date ...  ...  R Studio: Date is getting converted to number,...\n",
       "46431243  <p>This should be an easy one, but somehow I c...  ...  Pandas - dataframe groupby - how to get sum of...\n",
       "45306324  <p>Let say I have a component in Angular 2 tha...  ...  Casting results from Observable.forkJoin to th...\n",
       "49479547  <p>I'm setting a var using \\n<code>set TEST_VA...  ...  Environment variable set in batch file cannot ...\n",
       "...                                                     ...  ...                                                ...\n",
       "35488105  <p>Aspx Webpage accepting value in DD/mm/yyyy ...  ...  textbox user control not displaying date in DD...\n",
       "37045803  <p>I am making a program in C#. I want it to d...  ...  C# do something based on image detection <p>I ...\n",
       "43601747  <p>The <a href=\"https://kafka.apache.org/0100/...  ...  KafkaProducer: Difference between `callback` a...\n",
       "40505904  <p>Using the new pull request approval process...  ...  Is there a way to make Github un-approve a pul...\n",
       "40415937  i have taken three arrays one Array for saving...  ...  how to delete more than two Array Objects in t...\n",
       "\n",
       "[48000 rows x 5 columns]"
      ]
     },
     "execution_count": 49,
     "metadata": {},
     "output_type": "execute_result"
    }
   ],
   "source": [
    "df_raw"
   ]
  },
  {
   "cell_type": "code",
   "execution_count": 50,
   "id": "wmaHNn2JHhpx",
   "metadata": {
    "id": "wmaHNn2JHhpx"
   },
   "outputs": [],
   "source": [
    "text_columns = [\"Title\", \"Body\"]\n",
    "categorical_columns = [\"Tags\"]\n",
    "target_column = \"target\""
   ]
  },
  {
   "cell_type": "code",
   "execution_count": 51,
   "id": "UbHFhR7YVTW4",
   "metadata": {
    "id": "UbHFhR7YVTW4"
   },
   "outputs": [],
   "source": [
    "neural_network_data = df_raw\n",
    "neural_network_data[\"Body\"] = neural_network_data[\"Body\"].apply(str).apply(str.lower).apply(tokenize)\n",
    "neural_network_data[\"Title\"] = neural_network_data[\"Title\"].apply(str).apply(str.lower).apply(tokenize)\n",
    "neural_network_data['target'] = neural_network_data['target'].apply(lambda target: np.eye(3, dtype=np.int32)[target])"
   ]
  },
  {
   "cell_type": "code",
   "execution_count": 52,
   "id": "OJNBZGyRWAah",
   "metadata": {
    "id": "OJNBZGyRWAah"
   },
   "outputs": [],
   "source": [
    "from collections import Counter\n",
    "token_counts = Counter(token for i in text_columns\n",
    "                             for item in neural_network_data[i]\n",
    "                             for token in item.split())"
   ]
  },
  {
   "cell_type": "markdown",
   "id": "mJ5GgYIG2jKF",
   "metadata": {
    "id": "mJ5GgYIG2jKF"
   },
   "source": [
    "Найдем уникальныые токены и их количество, а также постоим гистограмму распределения"
   ]
  },
  {
   "cell_type": "code",
   "execution_count": 53,
   "id": "G-qlEO5PXcjg",
   "metadata": {
    "colab": {
     "base_uri": "https://localhost:8080/"
    },
    "id": "G-qlEO5PXcjg",
    "outputId": "d8a71f6f-6b30-4c32-b6e9-e559bacaabe1"
   },
   "outputs": [
    {
     "name": "stdout",
     "output_type": "stream",
     "text": [
      "Total unique tokens: 230236\n",
      "('.', 543501)\n",
      "('>', 375572)\n",
      "('p', 225299)\n",
      "('<', 215383)\n",
      "(',', 202492)\n",
      "...\n",
      "('3bujt', 1)\n",
      "('9i4jf', 1)\n",
      "('__nscfarray', 1)\n"
     ]
    }
   ],
   "source": [
    "print(\"Total unique tokens:\", len(token_counts))\n",
    "print('\\n'.join(map(str, token_counts.most_common(n=5))))\n",
    "print('...')\n",
    "print('\\n'.join(map(str, token_counts.most_common()[-3:])))"
   ]
  },
  {
   "cell_type": "markdown",
   "id": "biM7SX_bQL7y",
   "metadata": {
    "id": "biM7SX_bQL7y"
   },
   "source": [
    "Гистограмма распределения уникальных слов:"
   ]
  },
  {
   "cell_type": "code",
   "execution_count": 54,
   "id": "9dE03vj8XeRj",
   "metadata": {
    "colab": {
     "base_uri": "https://localhost:8080/",
     "height": 279
    },
    "id": "9dE03vj8XeRj",
    "outputId": "14896245-d627-4816-8ccc-3254727d9f6d"
   },
   "outputs": [
    {
     "data": {
      "image/png": "[encoded data removed]",
      "text/plain": [
       "<Figure size 432x288 with 1 Axes>"
      ]
     },
     "metadata": {
      "needs_background": "light"
     },
     "output_type": "display_data"
    }
   ],
   "source": [
    "plt.hist(list(token_counts.values()), range=[0, 10**4], bins=50, log=True)\n",
    "plt.xlabel(\"Word counts\");"
   ]
  },
  {
   "cell_type": "markdown",
   "id": "V6g3JdHpQxYB",
   "metadata": {
    "id": "V6g3JdHpQxYB"
   },
   "source": [
    "Отфильтруем токены, которые встречаются не менее 10 раз по списку всех токенов, также добавим обозначения для пустых и неизвестных слов."
   ]
  },
  {
   "cell_type": "code",
   "execution_count": 55,
   "id": "MzM4N1YrX-vK",
   "metadata": {
    "colab": {
     "base_uri": "https://localhost:8080/"
    },
    "id": "MzM4N1YrX-vK",
    "outputId": "5b462af0-9338-47ac-fb2a-8777d060c684"
   },
   "outputs": [
    {
     "name": "stdout",
     "output_type": "stream",
     "text": [
      "Vocabulary size: 24477\n"
     ]
    }
   ],
   "source": [
    "min_count = 10\n",
    "\n",
    "tokens = sorted(t for t, c in token_counts.items() if c >= min_count)\n",
    "\n",
    "UNK, PAD = \"UNK\", \"PAD\"\n",
    "tokens = [UNK, PAD] + tokens\n",
    "\n",
    "print(\"Vocabulary size:\", len(tokens))"
   ]
  },
  {
   "cell_type": "markdown",
   "id": "u26_JdQTX_MN",
   "metadata": {
    "id": "u26_JdQTX_MN"
   },
   "source": [
    "Словарь токенов:"
   ]
  },
  {
   "cell_type": "code",
   "execution_count": 56,
   "id": "5__MYJfoYgf6",
   "metadata": {
    "id": "5__MYJfoYgf6"
   },
   "outputs": [],
   "source": [
    "token_to_id = dict(map(reversed, enumerate(tokens)))"
   ]
  },
  {
   "cell_type": "markdown",
   "id": "vEdvTzT88_oB",
   "metadata": {
    "id": "vEdvTzT88_oB"
   },
   "source": [
    "Преобразуем текстовые и числовые строки в матрицы, усваиваемые нейронной сетью."
   ]
  },
  {
   "cell_type": "code",
   "execution_count": 57,
   "id": "dsic0P-xZLEP",
   "metadata": {
    "id": "dsic0P-xZLEP"
   },
   "outputs": [],
   "source": [
    "UNK_IX, PAD_IX = map(token_to_id.get, [UNK, PAD])\n",
    "\n",
    "def as_matrix(sequences, max_len=None):\n",
    "\n",
    "    if isinstance(sequences[0], str):\n",
    "        sequences = list(map(str.split, sequences))\n",
    "        \n",
    "    max_len = min(max(map(len, sequences)), max_len or float('inf'))\n",
    "    \n",
    "    matrix = np.full((len(sequences), max_len), np.int32(PAD_IX))\n",
    "    for i,seq in enumerate(sequences):\n",
    "        row_ix = [token_to_id.get(word, UNK_IX) for word in seq[:max_len]]\n",
    "        matrix[i, :len(row_ix)] = row_ix\n",
    "    \n",
    "    return matrix  #48000 58 (title)"
   ]
  },
  {
   "cell_type": "code",
   "execution_count": 58,
   "id": "Gs0lmRX1gR-B",
   "metadata": {
    "id": "Gs0lmRX1gR-B"
   },
   "outputs": [],
   "source": [
    "def num_matrix(arr):\n",
    "  result = np.zeros((len(arr), 3),dtype=np.int32)\n",
    "  for i in range(len(arr)):\n",
    "    for j in range(len(arr[i])):\n",
    "      result[i][j] = arr[i][j]\n",
    "  return result"
   ]
  },
  {
   "cell_type": "code",
   "execution_count": 59,
   "id": "JmKv1dKIaf3d",
   "metadata": {
    "colab": {
     "base_uri": "https://localhost:8080/"
    },
    "id": "JmKv1dKIaf3d",
    "outputId": "ff350bf3-f502-49e0-a75c-157bd5012bba"
   },
   "outputs": [
    {
     "data": {
      "text/plain": [
       "DictVectorizer(dtype=<class 'numpy.float32'>, sparse=False)"
      ]
     },
     "execution_count": 59,
     "metadata": {},
     "output_type": "execute_result"
    }
   ],
   "source": [
    "from sklearn.feature_extraction import DictVectorizer\n",
    "\n",
    "categorical_vectorizer = DictVectorizer(dtype=np.float32, sparse=False)\n",
    "categorical_vectorizer.fit(neural_network_data[categorical_columns].apply(dict, axis=1))"
   ]
  },
  {
   "cell_type": "markdown",
   "id": "_mcGh1xLSSlL",
   "metadata": {
    "id": "_mcGh1xLSSlL"
   },
   "source": [
    "Выполним разделение на `data_train` и `data_val`:"
   ]
  },
  {
   "cell_type": "code",
   "execution_count": 60,
   "id": "QDw7TwhEZZ0C",
   "metadata": {
    "colab": {
     "base_uri": "https://localhost:8080/"
    },
    "id": "QDw7TwhEZZ0C",
    "outputId": "1db75559-0810-4718-c9b7-1ffd482cc1d7"
   },
   "outputs": [
    {
     "name": "stdout",
     "output_type": "stream",
     "text": [
      "Train size =  40800\n",
      "Validation size =  7200\n"
     ]
    }
   ],
   "source": [
    "from sklearn.model_selection import train_test_split\n",
    "\n",
    "data_train, data_val = train_test_split(neural_network_data, test_size=0.15, random_state=11)\n",
    "data_train.index = range(len(data_train))\n",
    "data_val.index = range(len(data_val))\n",
    "\n",
    "print(\"Train size = \", len(data_train))\n",
    "print(\"Validation size = \", len(data_val))"
   ]
  },
  {
   "cell_type": "code",
   "execution_count": 61,
   "id": "Fkc7YRDKfny4",
   "metadata": {
    "id": "Fkc7YRDKfny4"
   },
   "outputs": [],
   "source": [
    "import torch\n",
    "\n",
    "def make_batch(data, max_len=None, word_dropout=0):\n",
    "\n",
    "    batch = {}\n",
    "    batch[\"Title\"] = as_matrix(data[\"Title\"].values, max_len)\n",
    "    batch[\"Body\"] = as_matrix(data[\"Body\"].values, max_len)\n",
    "    batch[\"target\"] = num_matrix(data[\"target\"].values)\n",
    "    batch['Categorical'] = categorical_vectorizer.transform(data[categorical_columns].apply(dict, axis=1))\n",
    "    \n",
    "    if word_dropout != 0:\n",
    "        batch[\"Body\"] = apply_word_dropout(batch[\"Body\"], 1. - word_dropout)\n",
    "    \n",
    "    if target_column in ['Title', 'Body', 'Categorical']:\n",
    "        batch[target_column] = data[target_column].values\n",
    "    \n",
    "    return batch\n"
   ]
  },
  {
   "cell_type": "code",
   "execution_count": 62,
   "id": "mCpnlAUAfz0o",
   "metadata": {
    "id": "mCpnlAUAfz0o"
   },
   "outputs": [],
   "source": [
    "def apply_word_dropout(matrix, keep_prop, replace_with=UNK_IX, pad_ix=PAD_IX,):\n",
    "    dropout_mask = np.random.choice(2, np.shape(matrix), p=[keep_prop, 1 - keep_prop])\n",
    "    dropout_mask &= matrix != pad_ix\n",
    "    return np.choose(dropout_mask, [matrix, np.full_like(matrix, replace_with)])"
   ]
  },
  {
   "cell_type": "markdown",
   "id": "-yHJluiLRapJ",
   "metadata": {
    "id": "-yHJluiLRapJ"
   },
   "source": [
    "Построение сети:"
   ]
  },
  {
   "cell_type": "code",
   "execution_count": 63,
   "id": "mz7CwPFEFvxq",
   "metadata": {
    "id": "mz7CwPFEFvxq"
   },
   "outputs": [],
   "source": [
    "import keras\n",
    "import keras.layers as L"
   ]
  },
  {
   "cell_type": "code",
   "execution_count": 64,
   "id": "7WT7feo6md4J",
   "metadata": {
    "id": "7WT7feo6md4J"
   },
   "outputs": [],
   "source": [
    "def build_model(n_tokens=len(tokens), n_cat_features=len(categorical_vectorizer.vocabulary_), hid_size=64):\n",
    "\n",
    "    l_title = L.Input(shape=[None], name=\"Title\")\n",
    "    l_body = L.Input(shape=[None], name=\"Body\")\n",
    "    l_categ = L.Input(shape=[n_cat_features], name=\"Categorical\")\n",
    "    \n",
    "    l_title_emb = L.Embedding(n_tokens, hid_size)(l_title)\n",
    "    l_title_conv = L.Conv1D(filters=hid_size, kernel_size=2, activation='relu')(l_title_emb)\n",
    "    l_title_out = L.GlobalMaxPool1D()(l_title_conv)\n",
    "    \n",
    "    \n",
    "    l_body_emb = L.Embedding(n_tokens, hid_size)(l_body)\n",
    "    l_body_conv = L.Conv1D(filters=hid_size, kernel_size=2, activation='relu')(l_body_emb)\n",
    "    l_body_out = L.GlobalMaxPool1D()(l_body_conv)\n",
    "    \n",
    "    \n",
    "    l_categ_fc = L.Dense(hid_size, activation='relu')(l_categ)\n",
    "    l_categ_out = L.Dense(hid_size)(l_categ_fc)\n",
    "    \n",
    "    l_concat = L.Concatenate()([l_title_out, l_body_out, l_categ_out])\n",
    "\n",
    "    l_fc = L.Dense(hid_size, activation='relu')(l_concat)\n",
    "    output_fc = L.Dense(3)(l_fc)\n",
    "\n",
    "    output_layer = L.Softmax()(output_fc)    \n",
    "    \n",
    "    model = keras.models.Model(inputs=[l_title, l_body, l_categ], outputs=[output_layer])\n",
    "    model.compile('adam', 'mean_squared_error', metrics=['categorical_accuracy'])\n",
    "    return model"
   ]
  },
  {
   "cell_type": "code",
   "execution_count": 65,
   "id": "vQnVM0D3CGZu",
   "metadata": {
    "colab": {
     "base_uri": "https://localhost:8080/"
    },
    "id": "vQnVM0D3CGZu",
    "outputId": "2cc8b3e7-887a-4f87-9ea2-887d9c115a02"
   },
   "outputs": [
    {
     "name": "stdout",
     "output_type": "stream",
     "text": [
      "Model: \"model\"\n",
      "__________________________________________________________________________________________________\n",
      " Layer (type)                   Output Shape         Param #     Connected to                     \n",
      "==================================================================================================\n",
      " Title (InputLayer)             [(None, None)]       0           []                               \n",
      "                                                                                                  \n",
      " Body (InputLayer)              [(None, None)]       0           []                               \n",
      "                                                                                                  \n",
      " embedding (Embedding)          (None, None, 64)     1566528     ['Title[0][0]']                  \n",
      "                                                                                                  \n",
      " embedding_1 (Embedding)        (None, None, 64)     1566528     ['Body[0][0]']                   \n",
      "                                                                                                  \n",
      " Categorical (InputLayer)       [(None, 27249)]      0           []                               \n",
      "                                                                                                  \n",
      " conv1d (Conv1D)                (None, None, 64)     8256        ['embedding[0][0]']              \n",
      "                                                                                                  \n",
      " conv1d_1 (Conv1D)              (None, None, 64)     8256        ['embedding_1[0][0]']            \n",
      "                                                                                                  \n",
      " dense (Dense)                  (None, 64)           1744000     ['Categorical[0][0]']            \n",
      "                                                                                                  \n",
      " global_max_pooling1d (GlobalMa  (None, 64)          0           ['conv1d[0][0]']                 \n",
      " xPooling1D)                                                                                      \n",
      "                                                                                                  \n",
      " global_max_pooling1d_1 (Global  (None, 64)          0           ['conv1d_1[0][0]']               \n",
      " MaxPooling1D)                                                                                    \n",
      "                                                                                                  \n",
      " dense_1 (Dense)                (None, 64)           4160        ['dense[0][0]']                  \n",
      "                                                                                                  \n",
      " concatenate (Concatenate)      (None, 192)          0           ['global_max_pooling1d[0][0]',   \n",
      "                                                                  'global_max_pooling1d_1[0][0]', \n",
      "                                                                  'dense_1[0][0]']                \n",
      "                                                                                                  \n",
      " dense_2 (Dense)                (None, 64)           12352       ['concatenate[0][0]']            \n",
      "                                                                                                  \n",
      " dense_3 (Dense)                (None, 3)            195         ['dense_2[0][0]']                \n",
      "                                                                                                  \n",
      " softmax (Softmax)              (None, 3)            0           ['dense_3[0][0]']                \n",
      "                                                                                                  \n",
      "==================================================================================================\n",
      "Total params: 4,910,275\n",
      "Trainable params: 4,910,275\n",
      "Non-trainable params: 0\n",
      "__________________________________________________________________________________________________\n"
     ]
    },
    {
     "name": "stderr",
     "output_type": "stream",
     "text": [
      "/usr/local/lib/python3.7/dist-packages/keras/engine/functional.py:559: UserWarning: Input dict contained keys ['target'] which did not match any model input. They will be ignored by the model.\n",
      "  inputs = self._flatten_to_reference_inputs(inputs)\n"
     ]
    }
   ],
   "source": [
    "model = build_model()\n",
    "model.summary()\n",
    "\n",
    "dummy_pred = model.predict(make_batch(data_train[:100]))\n",
    "dummy_loss = model.train_on_batch(make_batch(data_train[:100]), num_matrix(data_train['target'][:100]))[0]"
   ]
  },
  {
   "cell_type": "code",
   "execution_count": 66,
   "id": "4to7imwnEKLW",
   "metadata": {
    "id": "4to7imwnEKLW"
   },
   "outputs": [],
   "source": [
    "def iterate_minibatches(data, batch_size=256, shuffle=True, cycle=False, **kwargs):\n",
    "\n",
    "    while True:\n",
    "        indices = np.arange(len(data))\n",
    "        if shuffle:\n",
    "            indices = np.random.permutation(indices)\n",
    "\n",
    "        for start in range(0, len(indices), batch_size):\n",
    "            batch = make_batch(data.iloc[indices[start : start + batch_size]], **kwargs)\n",
    "            target = batch.pop(target_column)\n",
    "            yield batch, target\n",
    "        \n",
    "        if not cycle: break"
   ]
  },
  {
   "cell_type": "code",
   "execution_count": 67,
   "id": "Te3-0_1gIPy0",
   "metadata": {
    "colab": {
     "base_uri": "https://localhost:8080/"
    },
    "id": "Te3-0_1gIPy0",
    "outputId": "dd9552ea-d3dd-431a-9e4d-5c71db504d32"
   },
   "outputs": [
    {
     "name": "stderr",
     "output_type": "stream",
     "text": [
      "/usr/local/lib/python3.7/dist-packages/ipykernel_launcher.py:11: UserWarning: `Model.fit_generator` is deprecated and will be removed in a future version. Please use `Model.fit`, which supports generators.\n",
      "  # This is added back by InteractiveShellApp.init_path()\n"
     ]
    },
    {
     "name": "stdout",
     "output_type": "stream",
     "text": [
      "Epoch 1/3\n",
      "150/150 [==============================] - 299s 2s/step - loss: 0.0879 - categorical_accuracy: 0.8359 - val_loss: 0.0377 - val_categorical_accuracy: 0.9223\n",
      "Epoch 2/3\n",
      "150/150 [==============================] - 261s 2s/step - loss: 0.0179 - categorical_accuracy: 0.9674 - val_loss: 0.0396 - val_categorical_accuracy: 0.9199\n",
      "Epoch 3/3\n",
      "150/150 [==============================] - 261s 2s/step - loss: 0.0088 - categorical_accuracy: 0.9838 - val_loss: 0.0382 - val_categorical_accuracy: 0.9241\n"
     ]
    },
    {
     "data": {
      "text/plain": [
       "<keras.callbacks.History at 0x7f3e5ba8bbd0>"
      ]
     },
     "execution_count": 67,
     "metadata": {},
     "output_type": "execute_result"
    }
   ],
   "source": [
    "batch_size = 256\n",
    "epochs = 3            \n",
    "steps_per_epoch = 150 \n",
    "\n",
    "model = build_model()\n",
    "\n",
    "model.fit_generator(iterate_minibatches(data_train, batch_size, cycle=True, word_dropout=0.05), \n",
    "                    epochs=epochs, steps_per_epoch=steps_per_epoch,\n",
    "                    \n",
    "                    validation_data=iterate_minibatches(data_val, batch_size, cycle=True),\n",
    "                    validation_steps=data_val.shape[0] // batch_size\n",
    "                   )"
   ]
  },
  {
   "cell_type": "code",
   "execution_count": 68,
   "id": "ib0ah4MfIVrJ",
   "metadata": {
    "id": "ib0ah4MfIVrJ"
   },
   "outputs": [],
   "source": [
    "neural_network_test = df_test\n",
    "neural_network_test[\"Body\"] = neural_network_test[\"Body\"].apply(str).apply(str.lower).apply(tokenize)\n",
    "neural_network_test[\"Title\"] = neural_network_test[\"Title\"].apply(str).apply(str.lower).apply(tokenize)"
   ]
  },
  {
   "cell_type": "code",
   "execution_count": 69,
   "id": "QVBhtgSF4UXM",
   "metadata": {
    "id": "QVBhtgSF4UXM"
   },
   "outputs": [],
   "source": [
    "def make_test_batch(data, max_len=None, word_dropout=0):\n",
    "\n",
    "    batch = {}\n",
    "    batch[\"Title\"] = as_matrix(data[\"Title\"].values, max_len)\n",
    "    batch[\"Body\"] = as_matrix(data[\"Body\"].values, max_len)\n",
    "    batch['Categorical'] = categorical_vectorizer.transform(data[categorical_columns].apply(dict, axis=1))\n",
    "\n",
    "    if target_column in ['Title', 'Body', 'Categorical']:\n",
    "        batch[target_column] = data[target_column].values\n",
    "    \n",
    "    return batch"
   ]
  },
  {
   "cell_type": "code",
   "execution_count": 70,
   "id": "RCeHLEKO4WTi",
   "metadata": {
    "id": "RCeHLEKO4WTi"
   },
   "outputs": [],
   "source": [
    "pred = model.predict(make_test_batch(neural_network_test))"
   ]
  },
  {
   "cell_type": "code",
   "execution_count": 71,
   "id": "TwhITb-W4Xd-",
   "metadata": {
    "id": "TwhITb-W4Xd-"
   },
   "outputs": [],
   "source": [
    "pred = list(map(np.argmax, pred))"
   ]
  },
  {
   "cell_type": "code",
   "execution_count": 72,
   "id": "oE7SiMab4Y1v",
   "metadata": {
    "id": "oE7SiMab4Y1v"
   },
   "outputs": [],
   "source": [
    "answer = pd.DataFrame(data={'Id':neural_network_test.index.tolist(), 'Predicted': pred})"
   ]
  },
  {
   "cell_type": "code",
   "execution_count": 73,
   "id": "T6IfKcxe4amH",
   "metadata": {
    "colab": {
     "base_uri": "https://localhost:8080/",
     "height": 423
    },
    "id": "T6IfKcxe4amH",
    "outputId": "ca2878de-385a-4e59-e389-875146630fe2"
   },
   "outputs": [
    {
     "data": {
      "text/html": [
       "<div>\n",
       "<style scoped>\n",
       "    .dataframe tbody tr th:only-of-type {\n",
       "        vertical-align: middle;\n",
       "    }\n",
       "\n",
       "    .dataframe tbody tr th {\n",
       "        vertical-align: top;\n",
       "    }\n",
       "\n",
       "    .dataframe thead th {\n",
       "        text-align: right;\n",
       "    }\n",
       "</style>\n",
       "<table border=\"1\" class=\"dataframe\">\n",
       "  <thead>\n",
       "    <tr style=\"text-align: right;\">\n",
       "      <th></th>\n",
       "      <th>Id</th>\n",
       "      <th>Predicted</th>\n",
       "    </tr>\n",
       "  </thead>\n",
       "  <tbody>\n",
       "    <tr>\n",
       "      <th>0</th>\n",
       "      <td>46785369</td>\n",
       "      <td>2</td>\n",
       "    </tr>\n",
       "    <tr>\n",
       "      <th>1</th>\n",
       "      <td>38908667</td>\n",
       "      <td>0</td>\n",
       "    </tr>\n",
       "    <tr>\n",
       "      <th>2</th>\n",
       "      <td>44703012</td>\n",
       "      <td>0</td>\n",
       "    </tr>\n",
       "    <tr>\n",
       "      <th>3</th>\n",
       "      <td>34910435</td>\n",
       "      <td>0</td>\n",
       "    </tr>\n",
       "    <tr>\n",
       "      <th>4</th>\n",
       "      <td>51632121</td>\n",
       "      <td>2</td>\n",
       "    </tr>\n",
       "    <tr>\n",
       "      <th>...</th>\n",
       "      <td>...</td>\n",
       "      <td>...</td>\n",
       "    </tr>\n",
       "    <tr>\n",
       "      <th>11995</th>\n",
       "      <td>37771316</td>\n",
       "      <td>0</td>\n",
       "    </tr>\n",
       "    <tr>\n",
       "      <th>11996</th>\n",
       "      <td>59044957</td>\n",
       "      <td>1</td>\n",
       "    </tr>\n",
       "    <tr>\n",
       "      <th>11997</th>\n",
       "      <td>57190511</td>\n",
       "      <td>0</td>\n",
       "    </tr>\n",
       "    <tr>\n",
       "      <th>11998</th>\n",
       "      <td>35228310</td>\n",
       "      <td>2</td>\n",
       "    </tr>\n",
       "    <tr>\n",
       "      <th>11999</th>\n",
       "      <td>46390083</td>\n",
       "      <td>1</td>\n",
       "    </tr>\n",
       "  </tbody>\n",
       "</table>\n",
       "<p>12000 rows × 2 columns</p>\n",
       "</div>"
      ],
      "text/plain": [
       "             Id  Predicted\n",
       "0      46785369          2\n",
       "1      38908667          0\n",
       "2      44703012          0\n",
       "3      34910435          0\n",
       "4      51632121          2\n",
       "...         ...        ...\n",
       "11995  37771316          0\n",
       "11996  59044957          1\n",
       "11997  57190511          0\n",
       "11998  35228310          2\n",
       "11999  46390083          1\n",
       "\n",
       "[12000 rows x 2 columns]"
      ]
     },
     "execution_count": 73,
     "metadata": {},
     "output_type": "execute_result"
    }
   ],
   "source": [
    "answer"
   ]
  },
  {
   "cell_type": "code",
   "execution_count": 74,
   "id": "NjTBQ13-4bkQ",
   "metadata": {
    "id": "NjTBQ13-4bkQ"
   },
   "outputs": [],
   "source": [
    "answer.to_csv(\"result.csv\", index=False)"
   ]
  },
  {
   "cell_type": "markdown",
   "id": "BFY6_dpdN_SL",
   "metadata": {
    "id": "BFY6_dpdN_SL"
   },
   "source": [
    "Вывод: В качестве финального подхода, для классификации категории поста была выбрана сверточная нейронная сеть (CNN) так как она показала лучшие результаты на валидационной выборке. Была достигнута категориальная точность 92% на `data_val`. Удаление HTML тэгов не помогло повысить результаты. Используя  Word2vec для линейной регрессии удалось повысить f1_score с 0.821488984915161 до 0.8284382084908123."
   ]
  }
 ],
 "metadata": {
  "colab": {
   "collapsed_sections": [],
   "name": "nlp_lab1 _Sarynin.ipynb",
   "provenance": [],
   "toc_visible": true
  },
  "kernelspec": {
   "display_name": "Python 3 (ipykernel)",
   "language": "python",
   "name": "python3"
  },
  "language_info": {
   "codemirror_mode": {
    "name": "ipython",
    "version": 3
   },
   "file_extension": ".py",
   "mimetype": "text/x-python",
   "name": "python",
   "nbconvert_exporter": "python",
   "pygments_lexer": "ipython3",
   "version": "3.9.12"
  }
 },
 "nbformat": 4,
 "nbformat_minor": 5
}
